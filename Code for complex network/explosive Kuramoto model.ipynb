{
 "cells": [
  {
   "cell_type": "markdown",
   "metadata": {},
   "source": [
    "# Importing Julia packages"
   ]
  },
  {
   "cell_type": "code",
   "execution_count": 12,
   "metadata": {},
   "outputs": [],
   "source": [
    "using Random\n",
    "using LightGraphs\n",
    "using Distributions\n",
    "using LinearAlgebra\n",
    "\n",
    "using BenchmarkTools\n",
    "using PyPlot"
   ]
  },
  {
   "cell_type": "markdown",
   "metadata": {},
   "source": [
    "## Defining network size and configuration"
   ]
  },
  {
   "cell_type": "code",
   "execution_count": 13,
   "metadata": {},
   "outputs": [],
   "source": [
    "const N = 200;       # network size"
   ]
  },
  {
   "cell_type": "raw",
   "metadata": {},
   "source": [
    "Random.seed!(123) # Setting the seed for generating same sequence of random number each time\n",
    "#d = Normal()\n",
    "global omega = rand(Cauchy(0.0,0.5), N) #### gaussian \n",
    "global A = ones(N,N)-Matrix(I,N,N); ## adjacency of all-to-all\n",
    "G=Graph(A)\n",
    "global deg=degree(G);"
   ]
  },
  {
   "cell_type": "raw",
   "metadata": {},
   "source": [
    "print(A)"
   ]
  },
  {
   "cell_type": "code",
   "execution_count": 14,
   "metadata": {},
   "outputs": [],
   "source": [
    "Random.seed!(123) # Setting the seed for generating same sequence of random number each time\n",
    "#d = Normal()\n",
    "global omega = rand(Cauchy(0.0,0.5), N) #### gaussian \n",
    "#global A = ones(N,N)-Matrix(I,N,N); ## adjacency of all-to-all\n",
    "G=static_scale_free(N,400,2.3)\n",
    "A1 = adjacency_matrix(G)\n",
    "A = Matrix(A1)\n",
    "global deg=degree(G);"
   ]
  },
  {
   "cell_type": "code",
   "execution_count": 15,
   "metadata": {},
   "outputs": [
    {
     "name": "stderr",
     "output_type": "stream",
     "text": [
      "┌ Info: Precompiling DifferentialEquations [0c46a032-eb83-5123-abaf-570d42b7fbaa]\n",
      "└ @ Base loading.jl:1423\n",
      "┌ Warning: The call to compilecache failed to create a usable precompiled cache file for DifferentialEquations [0c46a032-eb83-5123-abaf-570d42b7fbaa]\n",
      "│   exception = ErrorException(\"Required dependency Optim [429524aa-4258-5aef-a3af-852621145aeb] failed to load from a cache file.\")\n",
      "└ @ Base loading.jl:1132\n"
     ]
    }
   ],
   "source": [
    "using DifferentialEquations"
   ]
  },
  {
   "cell_type": "markdown",
   "metadata": {},
   "source": [
    "## Declaring functions which define the system of Kuramoto equations"
   ]
  },
  {
   "cell_type": "code",
   "execution_count": 16,
   "metadata": {},
   "outputs": [],
   "source": [
    "# ==========================================\n",
    "# CPU multiplication\n",
    "# ==========================================\n",
    "\n",
    "function kuramoto(du, u, p, t)\n",
    "    \n",
    "    u1 = @view u[1:N]\n",
    "    du1 = @view du[1:N]\n",
    "\n",
    "    z1 = Array{Complex{Float64},1}(undef, N)\n",
    "    mul!(z1, A, exp.((u1)im))\n",
    "    z1 = z1 ./ deg\n",
    "\n",
    "    @. du1  = omega + p * abs(omega) * imag(z1 * exp((-1im) * u1))\n",
    "    \n",
    "    end;"
   ]
  },
  {
   "cell_type": "markdown",
   "metadata": {},
   "source": [
    "## Setting up initial conditions"
   ]
  },
  {
   "cell_type": "code",
   "execution_count": 17,
   "metadata": {},
   "outputs": [],
   "source": [
    "# Initial conditions\n",
    "\n",
    "u0 = rand(N)*2*pi\n",
    "du = similar(u0);"
   ]
  },
  {
   "cell_type": "markdown",
   "metadata": {},
   "source": [
    "## Performing benchmark tests"
   ]
  },
  {
   "cell_type": "code",
   "execution_count": 18,
   "metadata": {},
   "outputs": [
    {
     "data": {
      "text/plain": [
       "BenchmarkTools.Trial: 10000 samples with 1 evaluation.\n",
       " Range \u001b[90m(\u001b[39m\u001b[36m\u001b[1mmin\u001b[22m\u001b[39m … \u001b[35mmax\u001b[39m\u001b[90m):  \u001b[39m\u001b[36m\u001b[1m 91.654 μs\u001b[22m\u001b[39m … \u001b[35m 2.576 ms\u001b[39m  \u001b[90m┊\u001b[39m GC \u001b[90m(\u001b[39mmin … max\u001b[90m): \u001b[39m0.00% … 0.00%\n",
       " Time  \u001b[90m(\u001b[39m\u001b[34m\u001b[1mmedian\u001b[22m\u001b[39m\u001b[90m):     \u001b[39m\u001b[34m\u001b[1m101.416 μs              \u001b[22m\u001b[39m\u001b[90m┊\u001b[39m GC \u001b[90m(\u001b[39mmedian\u001b[90m):    \u001b[39m0.00%\n",
       " Time  \u001b[90m(\u001b[39m\u001b[32m\u001b[1mmean\u001b[22m\u001b[39m ± \u001b[32mσ\u001b[39m\u001b[90m):   \u001b[39m\u001b[32m\u001b[1m119.160 μs\u001b[22m\u001b[39m ± \u001b[32m68.138 μs\u001b[39m  \u001b[90m┊\u001b[39m GC \u001b[90m(\u001b[39mmean ± σ\u001b[90m):  \u001b[39m0.00% ± 0.00%\n",
       "\n",
       "  \u001b[39m \u001b[39m█\u001b[39m█\u001b[34m▆\u001b[39m\u001b[39m▆\u001b[39m▄\u001b[39m▃\u001b[32m▃\u001b[39m\u001b[39m▃\u001b[39m▂\u001b[39m▂\u001b[39m▃\u001b[39m▄\u001b[39m▃\u001b[39m▂\u001b[39m▂\u001b[39m▂\u001b[39m▁\u001b[39m▁\u001b[39m▁\u001b[39m \u001b[39m▁\u001b[39m▁\u001b[39m \u001b[39m \u001b[39m \u001b[39m \u001b[39m \u001b[39m \u001b[39m \u001b[39m \u001b[39m \u001b[39m \u001b[39m \u001b[39m \u001b[39m \u001b[39m \u001b[39m \u001b[39m \u001b[39m \u001b[39m \u001b[39m \u001b[39m \u001b[39m \u001b[39m \u001b[39m \u001b[39m \u001b[39m \u001b[39m \u001b[39m \u001b[39m \u001b[39m \u001b[39m \u001b[39m \u001b[39m \u001b[39m \u001b[39m \u001b[39m \u001b[39m \u001b[39m \u001b[39m \u001b[39m▂\n",
       "  \u001b[39m█\u001b[39m█\u001b[39m█\u001b[34m█\u001b[39m\u001b[39m█\u001b[39m█\u001b[39m█\u001b[32m█\u001b[39m\u001b[39m█\u001b[39m█\u001b[39m█\u001b[39m█\u001b[39m█\u001b[39m█\u001b[39m█\u001b[39m█\u001b[39m█\u001b[39m█\u001b[39m█\u001b[39m█\u001b[39m█\u001b[39m█\u001b[39m█\u001b[39m█\u001b[39m█\u001b[39m█\u001b[39m█\u001b[39m█\u001b[39m▇\u001b[39m█\u001b[39m▇\u001b[39m█\u001b[39m▇\u001b[39m▇\u001b[39m▇\u001b[39m▆\u001b[39m▆\u001b[39m▇\u001b[39m▇\u001b[39m▇\u001b[39m▆\u001b[39m▆\u001b[39m▅\u001b[39m▅\u001b[39m▆\u001b[39m▆\u001b[39m▆\u001b[39m▆\u001b[39m▆\u001b[39m▁\u001b[39m▅\u001b[39m▆\u001b[39m▆\u001b[39m▃\u001b[39m▆\u001b[39m▅\u001b[39m▄\u001b[39m▅\u001b[39m▄\u001b[39m▅\u001b[39m \u001b[39m█\n",
       "  91.7 μs\u001b[90m       \u001b[39m\u001b[90mHistogram: \u001b[39m\u001b[90m\u001b[1mlog(\u001b[22m\u001b[39m\u001b[90mfrequency\u001b[39m\u001b[90m\u001b[1m)\u001b[22m\u001b[39m\u001b[90m by time\u001b[39m       326 μs \u001b[0m\u001b[1m<\u001b[22m\n",
       "\n",
       " Memory estimate\u001b[90m: \u001b[39m\u001b[33m13.91 KiB\u001b[39m, allocs estimate\u001b[90m: \u001b[39m\u001b[33m19\u001b[39m."
      ]
     },
     "execution_count": 18,
     "metadata": {},
     "output_type": "execute_result"
    }
   ],
   "source": [
    "# complex Kuramoto matrix multiplication\n",
    "@benchmark kuramoto(du, u0, 0.0, 0)"
   ]
  },
  {
   "cell_type": "markdown",
   "metadata": {},
   "source": [
    "# Performing test calculations"
   ]
  },
  {
   "cell_type": "code",
   "execution_count": 19,
   "metadata": {},
   "outputs": [],
   "source": [
    "# setting up time steps and integration intervals\n",
    "\n",
    "dt = 0.01 # time step\n",
    "dts = 0.1 # save time\n",
    "ti = 0.0\n",
    "tt = 500.0 \n",
    "tf = 1000.0\n",
    "nt = Int(div(tt,dts))\n",
    "nf = Int(div(tf,dts))\n",
    "\n",
    "tspan = (ti, tf); # time interval"
   ]
  },
  {
   "cell_type": "code",
   "execution_count": 20,
   "metadata": {},
   "outputs": [
    {
     "name": "stdout",
     "output_type": "stream",
     "text": [
      "#####################\n",
      "Forward transition!\n",
      "#####################\n",
      "λ=1.5\n"
     ]
    },
    {
     "name": "stderr",
     "output_type": "stream",
     "text": [
      "┌ Warning: Instability detected. Aborting\n",
      "└ @ SciMLBase /Users/aryanpatel/.julia/packages/SciMLBase/m11uN/src/integrator_interface.jl:523\n"
     ]
    },
    {
     "ename": "LoadError",
     "evalue": "BoundsError: attempt to access 1-element Vector{Float64} at index [4999:9999]",
     "output_type": "error",
     "traceback": [
      "BoundsError: attempt to access 1-element Vector{Float64} at index [4999:9999]",
      "",
      "Stacktrace:",
      " [1] throw_boundserror(A::Vector{Float64}, I::Tuple{UnitRange{Int64}})",
      "   @ Base ./abstractarray.jl:691",
      " [2] checkbounds",
      "   @ ./abstractarray.jl:656 [inlined]",
      " [3] getindex(A::Vector{Float64}, I::UnitRange{Int64})",
      "   @ Base ./array.jl:867",
      " [4] top-level scope",
      "   @ ./In[20]:18",
      " [5] eval",
      "   @ ./boot.jl:373 [inlined]",
      " [6] include_string(mapexpr::typeof(REPL.softscope), mod::Module, code::String, filename::String)",
      "   @ Base ./loading.jl:1196"
     ]
    }
   ],
   "source": [
    "λ = collect(1.5:0.02:4.0)\n",
    "\n",
    "r_fwd = zeros(size(λ)[1])\n",
    "r_bwd = zeros(size(λ)[1])\n",
    "\n",
    "println(\"#####################\")\n",
    "println(\"Forward transition!\")\n",
    "println(\"#####################\")\n",
    "\n",
    "for l in 1:size(λ)[1]\n",
    "    print(\"λ=\")\n",
    "    println(λ[l])\n",
    "    # defining problem for ODE solver\n",
    "    prob = ODEProblem(kuramoto, u0, tspan, λ[l])\n",
    "\n",
    "    # solving problem using a proper solver\n",
    "    sol = solve(prob, RK4(), dt=dt, saveat=dts, progress=true);\n",
    "    r_fwd[l] = mean(abs.(mean(exp.(sol*1im),dims=1)[1,:])[nt:nf]);\n",
    "    \n",
    "    u0 = mod2pi.(sol[:,nf])\n",
    "    end;\n",
    "\n",
    "println(\"#####################\")\n",
    "println(\"Backward transition!\")\n",
    "println(\"#####################\")\n",
    "\n",
    "for l in size(λ)[1]:-1:1\n",
    "    print(\"λ=\")\n",
    "    println(λ[l])\n",
    "    # defining problem for ODE solver\n",
    "    prob = ODEProblem(kuramoto, u0, tspan, λ[l])\n",
    "\n",
    "    # solving problem using a proper solver\n",
    "    sol = solve(prob, RK4(), dt=dt, saveat=dts, progress=true);\n",
    "    r_bwd[l] = mean(abs.(mean(exp.(sol*1im),dims=1)[1,:])[nt:nf]);\n",
    "    \n",
    "    u0 = mod2pi.(sol[:,nf])\n",
    "    end;"
   ]
  },
  {
   "cell_type": "code",
   "execution_count": 21,
   "metadata": {},
   "outputs": [
    {
     "data": {
      "image/png": "[encoded data removed]",
      "text/plain": [
       "Figure(PyObject <Figure size 640x480 with 1 Axes>)"
      ]
     },
     "metadata": {},
     "output_type": "display_data"
    }
   ],
   "source": [
    "title(\"Hysteresis loop of explosive transition\")\n",
    "plot(λ,r_fwd,c=\"blue\")\n",
    "scatter(λ,r_fwd,c=\"blue\",marker=\"d\")\n",
    "plot(λ,r_bwd,c=\"red\")\n",
    "scatter(λ,r_bwd,c=\"red\")\n",
    "ylabel(\"global order parameter R\")\n",
    "xlabel(\"coupling strength λ\")\n",
    "show()"
   ]
  },
  {
   "cell_type": "code",
   "execution_count": 22,
   "metadata": {},
   "outputs": [
    {
     "data": {
      "image/png": "[encoded data removed]",
      "text/plain": [
       "Figure(PyObject <Figure size 640x480 with 1 Axes>)"
      ]
     },
     "metadata": {},
     "output_type": "display_data"
    }
   ],
   "source": [
    "title(\"Hysteresis loop of explosive transition\")\n",
    "plot(λ,r_fwd,c=\"blue\")\n",
    "scatter(λ,r_fwd,c=\"blue\",marker=\"d\")\n",
    "plot(λ,r_bwd,c=\"red\")\n",
    "scatter(λ,r_bwd,c=\"red\")\n",
    "ylabel(\"global order parameter R\")\n",
    "xlabel(\"coupling strength λ\")\n",
    "show()"
   ]
  },
  {
   "cell_type": "code",
   "execution_count": null,
   "metadata": {},
   "outputs": [],
   "source": []
  }
 ],
 "metadata": {
  "kernelspec": {
   "display_name": "Julia 1.7.3",
   "language": "julia",
   "name": "julia-1.7"
  },
  "language_info": {
   "file_extension": ".jl",
   "mimetype": "application/julia",
   "name": "julia",
   "version": "1.7.3"
  }
 },
 "nbformat": 4,
 "nbformat_minor": 4
}
