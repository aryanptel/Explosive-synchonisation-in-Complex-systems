{
 "cells": [
  {
   "cell_type": "code",
   "execution_count": 13,
   "id": "f716a223",
   "metadata": {},
   "outputs": [
    {
     "name": "stdout",
     "output_type": "stream",
     "text": [
      "[[0 1 0 0 0 0 0 0 0 0 0 0 0 0 0 0 0 0 0 1]\n",
      " [1 0 1 0 0 0 0 0 0 0 0 0 0 0 0 0 0 0 0 0]\n",
      " [0 1 0 1 0 0 0 0 0 0 0 0 0 0 0 0 0 0 0 0]\n",
      " [0 0 1 0 1 0 0 0 0 0 0 0 0 0 0 0 0 0 0 0]\n",
      " [0 0 0 1 0 1 0 0 0 0 0 0 0 0 0 0 0 0 0 0]\n",
      " [0 0 0 0 1 0 1 0 0 0 0 0 0 0 0 0 0 0 0 0]\n",
      " [0 0 0 0 0 1 0 1 0 0 0 0 0 0 0 0 0 0 0 0]\n",
      " [0 0 0 0 0 0 1 0 1 0 0 0 0 0 0 0 0 0 0 0]\n",
      " [0 0 0 0 0 0 0 1 0 1 0 0 0 0 0 0 0 0 0 0]\n",
      " [0 0 0 0 0 0 0 0 1 0 1 0 0 0 0 0 0 0 0 0]\n",
      " [0 0 0 0 0 0 0 0 0 1 0 1 0 0 0 0 0 0 0 0]\n",
      " [0 0 0 0 0 0 0 0 0 0 1 0 1 0 0 0 0 0 0 0]\n",
      " [0 0 0 0 0 0 0 0 0 0 0 1 0 1 0 0 0 0 0 0]\n",
      " [0 0 0 0 0 0 0 0 0 0 0 0 1 0 1 0 0 0 0 0]\n",
      " [0 0 0 0 0 0 0 0 0 0 0 0 0 1 0 1 0 0 0 0]\n",
      " [0 0 0 0 0 0 0 0 0 0 0 0 0 0 1 0 1 0 0 0]\n",
      " [0 0 0 0 0 0 0 0 0 0 0 0 0 0 0 1 0 1 0 0]\n",
      " [0 0 0 0 0 0 0 0 0 0 0 0 0 0 0 0 1 0 1 0]\n",
      " [0 0 0 0 0 0 0 0 0 0 0 0 0 0 0 0 0 1 0 1]\n",
      " [1 0 0 0 0 0 0 0 0 0 0 0 0 0 0 0 0 0 1 0]]\n",
      "[[0 1 0 0 0 0 0 0 0 0 0 0 0 0 0 0 0 0 0 1]\n",
      " [1 0 1 0 0 0 0 0 0 0 0 0 0 0 0 0 0 0 0 0]\n",
      " [0 1 0 1 0 0 0 0 0 0 0 0 0 0 0 0 0 0 0 0]\n",
      " [0 0 1 0 1 0 0 0 0 0 0 0 0 0 0 0 0 0 0 0]\n",
      " [0 0 0 1 0 1 0 0 0 0 0 0 0 0 0 0 0 0 0 0]\n",
      " [0 0 0 0 1 0 1 0 0 0 0 0 0 0 0 0 0 0 0 0]\n",
      " [0 0 0 0 0 1 0 1 0 0 0 0 0 0 0 0 0 0 0 0]\n",
      " [0 0 0 0 0 0 1 0 1 0 0 0 0 0 0 0 0 0 0 0]\n",
      " [0 0 0 0 0 0 0 1 0 1 0 0 0 0 0 0 0 0 0 0]\n",
      " [0 0 0 0 0 0 0 0 1 0 1 0 0 0 0 0 0 0 0 0]\n",
      " [0 0 0 0 0 0 0 0 0 1 0 1 0 0 0 0 0 0 0 0]\n",
      " [0 0 0 0 0 0 0 0 0 0 1 0 1 0 0 0 0 0 0 0]\n",
      " [0 0 0 0 0 0 0 0 0 0 0 1 0 1 0 0 0 0 0 0]\n",
      " [0 0 0 0 0 0 0 0 0 0 0 0 1 0 1 0 0 0 0 0]\n",
      " [0 0 0 0 0 0 0 0 0 0 0 0 0 1 0 1 0 0 0 0]\n",
      " [0 0 0 0 0 0 0 0 0 0 0 0 0 0 1 0 1 0 0 0]\n",
      " [0 0 0 0 0 0 0 0 0 0 0 0 0 0 0 1 0 1 0 0]\n",
      " [0 0 0 0 0 0 0 0 0 0 0 0 0 0 0 0 1 0 1 0]\n",
      " [0 0 0 0 0 0 0 0 0 0 0 0 0 0 0 0 0 1 0 1]\n",
      " [1 0 0 0 0 0 0 0 0 0 0 0 0 0 0 0 0 0 1 0]]\n"
     ]
    },
    {
     "data": {
      "image/png": "[encoded data removed]",
      "text/plain": [
       "<Figure size 432x288 with 1 Axes>"
      ]
     },
     "metadata": {},
     "output_type": "display_data"
    }
   ],
   "source": [
    "#SF NETWORK, ER NETWORK, FULLY CONNECTED, \n",
    "#FREQUENCY DISTRIBUTION GAUSSIAN, LORENTZIAN\n",
    "#AVG DEGREE = 6, NODE = 50, \n",
    "\n",
    "import networkx as nx\n",
    "from matplotlib import pyplot as plt\n",
    "import numpy as np\n",
    "import math\n",
    "from tqdm import tqdm\n",
    "import cmath\n",
    "import seaborn as sns #for the didstribution plot\n",
    "from scipy import stats  #for the gaussian and lorentizian distribution\n",
    "#import ewstools\n",
    "\n",
    "N = 20\n",
    "\n",
    "\n",
    "\n",
    "ring_matrix = [[ 0 for j in range(N)] for i in range(N)]\n",
    "#print(ring_matrix)\n",
    "\n",
    "for i in range(N-1):\n",
    "    ring_matrix[i][i+1] = 1\n",
    "    ring_matrix[i+1][i] = 1\n",
    "ring_matrix[0][N-1] = 1\n",
    "ring_matrix[N-1][0] = 1\n",
    "\n",
    "ring_matrix = np.array(ring_matrix)\n",
    "print(ring_matrix)\n",
    "\n",
    "\n",
    "G = nx.from_numpy_matrix(ring_matrix)\n",
    "nx.draw(G,node_color='#8F00FF',with_labels = True, node_size=20)\n",
    "\n",
    "A = ring_matrix\n",
    "\n",
    "print(A)\n",
    "\n",
    "#GAUSSIAN distribution\n",
    "#omega = np.random.normal(loc=0, scale=1, size=(N))\n",
    "\n",
    "#LORENTZIAN DISTRIBUTION\n",
    "omega =  np.random.uniform(0,2,size= (N))\n",
    "#stats.cauchy.rvs(loc=0, scale=1, size=1000)\n",
    "#omega_0  = 0 and gamma  = 0.5\n",
    "\n",
    "for node in G.nodes():\n",
    "    G.nodes[node]['w'] = omega[node]\n",
    "    G.nodes[node]['theta'] = np.random.rand()\n",
    "    G.nodes[node]['thetadot'] = 0\n",
    "\n",
    "#nextG = G.copy() #copy graph\n",
    "\n",
    "nx.draw(G,node_color='#8F00FF', node_size=20) #to draw\n",
    "\n",
    "\n",
    "front_order = []\n",
    "back_order = []"
   ]
  },
  {
   "cell_type": "markdown",
   "id": "1c66619d",
   "metadata": {},
   "source": [
    "sns.kdeplot(omega)\n",
    "\n",
    "plt.show() "
   ]
  },
  {
   "cell_type": "markdown",
   "id": "10383348-3382-4941-8291-882fd7598535",
   "metadata": {},
   "source": [
    "G= nx.barabasi_albert_graph(200,1)\n",
    "G = G.to_undirected() # changed to undirected graph\n",
    "#G.pos = nx.spring_layout(G) #to give nodes spring like structure\n",
    "typ = 'SF'\n",
    "nx.draw(G,node_color='#8F00FF', node_size=20) #to draw\n"
   ]
  },
  {
   "cell_type": "markdown",
   "id": "ebad9870-bc1b-4c60-9239-10eadbf47891",
   "metadata": {},
   "source": [
    "\n",
    "G = nx.scale_free_graph(200, alpha=0.41, beta=0.54, gamma=0.05, delta_in=0.2, delta_out=0, create_using=None, seed=None, initial_graph=None) #scale free directed network is created\n",
    "\n",
    "nx.draw(G,node_color='#8F00FF', node_size=20) #to draw\n"
   ]
  },
  {
   "cell_type": "markdown",
   "id": "74833409-dce6-4192-909c-5f5e7914779e",
   "metadata": {},
   "source": [
    "Running the single code increasing and decreasing "
   ]
  },
  {
   "cell_type": "code",
   "execution_count": null,
   "id": "ee8e6e77",
   "metadata": {},
   "outputs": [
    {
     "name": "stderr",
     "output_type": "stream",
     "text": [
      "\r",
      "  0%|          | 0/60 [00:00<?, ?it/s]"
     ]
    },
    {
     "name": "stdout",
     "output_type": "stream",
     "text": [
      "0.0\n"
     ]
    },
    {
     "name": "stderr",
     "output_type": "stream",
     "text": [
      "\r",
      "  2%|▏         | 1/60 [00:17<16:50, 17.12s/it]"
     ]
    },
    {
     "name": "stdout",
     "output_type": "stream",
     "text": [
      "0.17623897535961544\n",
      "0.05\n"
     ]
    },
    {
     "name": "stderr",
     "output_type": "stream",
     "text": [
      "\r",
      "  3%|▎         | 2/60 [00:34<16:51, 17.44s/it]"
     ]
    },
    {
     "name": "stdout",
     "output_type": "stream",
     "text": [
      "0.2075863783826884\n",
      "0.1\n"
     ]
    },
    {
     "name": "stderr",
     "output_type": "stream",
     "text": [
      "\r",
      "  5%|▌         | 3/60 [00:51<16:18, 17.17s/it]"
     ]
    },
    {
     "name": "stdout",
     "output_type": "stream",
     "text": [
      "0.20833150720777419\n",
      "0.15000000000000002\n"
     ]
    },
    {
     "name": "stderr",
     "output_type": "stream",
     "text": [
      "\r",
      "  7%|▋         | 4/60 [01:08<15:54, 17.05s/it]"
     ]
    },
    {
     "name": "stdout",
     "output_type": "stream",
     "text": [
      "0.3086221994597084\n",
      "0.2\n"
     ]
    },
    {
     "name": "stderr",
     "output_type": "stream",
     "text": [
      "\r",
      "  8%|▊         | 5/60 [01:27<16:13, 17.70s/it]"
     ]
    },
    {
     "name": "stdout",
     "output_type": "stream",
     "text": [
      "0.3824154771137991\n",
      "0.25\n"
     ]
    },
    {
     "name": "stderr",
     "output_type": "stream",
     "text": [
      "\r",
      " 10%|█         | 6/60 [01:46<16:24, 18.22s/it]"
     ]
    },
    {
     "name": "stdout",
     "output_type": "stream",
     "text": [
      "0.3413178716085195\n",
      "0.30000000000000004\n"
     ]
    },
    {
     "name": "stderr",
     "output_type": "stream",
     "text": [
      "\r",
      " 12%|█▏        | 7/60 [02:04<15:58, 18.09s/it]"
     ]
    },
    {
     "name": "stdout",
     "output_type": "stream",
     "text": [
      "0.16038903314601324\n",
      "0.35000000000000003\n"
     ]
    },
    {
     "name": "stderr",
     "output_type": "stream",
     "text": [
      "\r",
      " 13%|█▎        | 8/60 [02:20<15:10, 17.50s/it]"
     ]
    },
    {
     "name": "stdout",
     "output_type": "stream",
     "text": [
      "0.16261463086503003\n",
      "0.4\n"
     ]
    },
    {
     "name": "stderr",
     "output_type": "stream",
     "text": [
      "\r",
      " 15%|█▌        | 9/60 [02:37<14:36, 17.19s/it]"
     ]
    },
    {
     "name": "stdout",
     "output_type": "stream",
     "text": [
      "0.379724973505002\n",
      "0.45\n"
     ]
    },
    {
     "name": "stderr",
     "output_type": "stream",
     "text": [
      "\r",
      " 17%|█▋        | 10/60 [02:53<14:03, 16.87s/it]"
     ]
    },
    {
     "name": "stdout",
     "output_type": "stream",
     "text": [
      "0.2187819244028016\n",
      "0.5\n"
     ]
    },
    {
     "name": "stderr",
     "output_type": "stream",
     "text": [
      "\r",
      " 18%|█▊        | 11/60 [03:09<13:37, 16.67s/it]"
     ]
    },
    {
     "name": "stdout",
     "output_type": "stream",
     "text": [
      "0.28235831495657776\n",
      "0.55\n"
     ]
    },
    {
     "name": "stderr",
     "output_type": "stream",
     "text": [
      "\r",
      " 20%|██        | 12/60 [03:25<13:15, 16.58s/it]"
     ]
    },
    {
     "name": "stdout",
     "output_type": "stream",
     "text": [
      "0.30138544158292463\n",
      "0.6000000000000001\n"
     ]
    },
    {
     "name": "stderr",
     "output_type": "stream",
     "text": [
      "\r",
      " 22%|██▏       | 13/60 [03:42<12:54, 16.49s/it]"
     ]
    },
    {
     "name": "stdout",
     "output_type": "stream",
     "text": [
      "0.29455568945381083\n",
      "0.65\n"
     ]
    },
    {
     "name": "stderr",
     "output_type": "stream",
     "text": [
      "\r",
      " 23%|██▎       | 14/60 [03:58<12:35, 16.43s/it]"
     ]
    },
    {
     "name": "stdout",
     "output_type": "stream",
     "text": [
      "0.4268124782283016\n",
      "0.7000000000000001\n"
     ]
    },
    {
     "name": "stderr",
     "output_type": "stream",
     "text": [
      "\r",
      " 25%|██▌       | 15/60 [04:14<12:15, 16.35s/it]"
     ]
    },
    {
     "name": "stdout",
     "output_type": "stream",
     "text": [
      "0.17518007113609743\n",
      "0.75\n"
     ]
    },
    {
     "name": "stderr",
     "output_type": "stream",
     "text": [
      "\r",
      " 27%|██▋       | 16/60 [04:30<11:57, 16.32s/it]"
     ]
    },
    {
     "name": "stdout",
     "output_type": "stream",
     "text": [
      "0.37861592657196114\n",
      "0.8\n"
     ]
    },
    {
     "name": "stderr",
     "output_type": "stream",
     "text": [
      "\r",
      " 28%|██▊       | 17/60 [04:47<11:39, 16.27s/it]"
     ]
    },
    {
     "name": "stdout",
     "output_type": "stream",
     "text": [
      "0.13371425360869305\n",
      "0.8500000000000001\n"
     ]
    },
    {
     "name": "stderr",
     "output_type": "stream",
     "text": [
      "\r",
      " 30%|███       | 18/60 [05:03<11:24, 16.29s/it]"
     ]
    },
    {
     "name": "stdout",
     "output_type": "stream",
     "text": [
      "0.5189743683186626\n",
      "0.9\n"
     ]
    },
    {
     "name": "stderr",
     "output_type": "stream",
     "text": [
      "\r",
      " 32%|███▏      | 19/60 [05:21<11:26, 16.74s/it]"
     ]
    },
    {
     "name": "stdout",
     "output_type": "stream",
     "text": [
      "0.19644357834679224\n",
      "0.9500000000000001\n"
     ]
    },
    {
     "name": "stderr",
     "output_type": "stream",
     "text": [
      "\r",
      " 33%|███▎      | 20/60 [05:40<11:35, 17.39s/it]"
     ]
    },
    {
     "name": "stdout",
     "output_type": "stream",
     "text": [
      "0.16417806307712307\n",
      "1.0\n"
     ]
    },
    {
     "name": "stderr",
     "output_type": "stream",
     "text": [
      "\r",
      " 35%|███▌      | 21/60 [05:57<11:23, 17.53s/it]"
     ]
    },
    {
     "name": "stdout",
     "output_type": "stream",
     "text": [
      "0.29089339732714065\n",
      "1.05\n"
     ]
    },
    {
     "name": "stderr",
     "output_type": "stream",
     "text": [
      "\r",
      " 37%|███▋      | 22/60 [06:14<10:57, 17.29s/it]"
     ]
    },
    {
     "name": "stdout",
     "output_type": "stream",
     "text": [
      "0.2649477462710631\n",
      "1.1\n"
     ]
    },
    {
     "name": "stderr",
     "output_type": "stream",
     "text": [
      "\r",
      " 38%|███▊      | 23/60 [06:32<10:47, 17.49s/it]"
     ]
    },
    {
     "name": "stdout",
     "output_type": "stream",
     "text": [
      "0.5915349138339443\n",
      "1.1500000000000001\n"
     ]
    },
    {
     "name": "stderr",
     "output_type": "stream",
     "text": [
      "\r",
      " 40%|████      | 24/60 [06:49<10:24, 17.34s/it]"
     ]
    },
    {
     "name": "stdout",
     "output_type": "stream",
     "text": [
      "0.1203293671350526\n",
      "1.2000000000000002\n"
     ]
    },
    {
     "name": "stderr",
     "output_type": "stream",
     "text": [
      "\r",
      " 42%|████▏     | 25/60 [07:06<10:06, 17.34s/it]"
     ]
    },
    {
     "name": "stdout",
     "output_type": "stream",
     "text": [
      "0.3512967635425758\n",
      "1.25\n"
     ]
    },
    {
     "name": "stderr",
     "output_type": "stream",
     "text": [
      "\r",
      " 43%|████▎     | 26/60 [07:25<10:01, 17.70s/it]"
     ]
    },
    {
     "name": "stdout",
     "output_type": "stream",
     "text": [
      "0.22244294653739757\n",
      "1.3\n"
     ]
    },
    {
     "name": "stderr",
     "output_type": "stream",
     "text": [
      "\r",
      " 45%|████▌     | 27/60 [07:44<10:00, 18.19s/it]"
     ]
    },
    {
     "name": "stdout",
     "output_type": "stream",
     "text": [
      "0.18616379845587316\n",
      "1.35\n"
     ]
    },
    {
     "name": "stderr",
     "output_type": "stream",
     "text": [
      "\r",
      " 47%|████▋     | 28/60 [08:04<09:52, 18.53s/it]"
     ]
    },
    {
     "name": "stdout",
     "output_type": "stream",
     "text": [
      "0.5284946784224565\n",
      "1.4000000000000001\n"
     ]
    },
    {
     "name": "stderr",
     "output_type": "stream",
     "text": [
      "\r",
      " 48%|████▊     | 29/60 [08:22<09:34, 18.54s/it]"
     ]
    },
    {
     "name": "stdout",
     "output_type": "stream",
     "text": [
      "0.4904462617088675\n",
      "1.4500000000000002\n"
     ]
    },
    {
     "name": "stderr",
     "output_type": "stream",
     "text": [
      "\r",
      " 50%|█████     | 30/60 [08:39<09:04, 18.14s/it]"
     ]
    },
    {
     "name": "stdout",
     "output_type": "stream",
     "text": [
      "0.2859260479399194\n",
      "1.5\n"
     ]
    },
    {
     "name": "stderr",
     "output_type": "stream",
     "text": [
      "\r",
      " 52%|█████▏    | 31/60 [08:57<08:40, 17.94s/it]"
     ]
    },
    {
     "name": "stdout",
     "output_type": "stream",
     "text": [
      "0.5210184279939964\n",
      "1.55\n"
     ]
    },
    {
     "name": "stderr",
     "output_type": "stream",
     "text": [
      "\r",
      " 53%|█████▎    | 32/60 [09:14<08:16, 17.74s/it]"
     ]
    },
    {
     "name": "stdout",
     "output_type": "stream",
     "text": [
      "0.5304773660129121\n",
      "1.6\n"
     ]
    },
    {
     "name": "stderr",
     "output_type": "stream",
     "text": [
      "\r",
      " 55%|█████▌    | 33/60 [09:32<07:58, 17.72s/it]"
     ]
    },
    {
     "name": "stdout",
     "output_type": "stream",
     "text": [
      "0.38653062624417944\n",
      "1.6500000000000001\n"
     ]
    },
    {
     "name": "stderr",
     "output_type": "stream",
     "text": [
      "\r",
      " 57%|█████▋    | 34/60 [09:50<07:41, 17.77s/it]"
     ]
    },
    {
     "name": "stdout",
     "output_type": "stream",
     "text": [
      "0.36587296923930396\n",
      "1.7000000000000002\n"
     ]
    },
    {
     "name": "stderr",
     "output_type": "stream",
     "text": [
      "\r",
      " 58%|█████▊    | 35/60 [10:07<07:24, 17.77s/it]"
     ]
    },
    {
     "name": "stdout",
     "output_type": "stream",
     "text": [
      "0.406266663009515\n",
      "1.75\n"
     ]
    },
    {
     "name": "stderr",
     "output_type": "stream",
     "text": [
      "\r",
      " 60%|██████    | 36/60 [10:25<07:07, 17.83s/it]"
     ]
    },
    {
     "name": "stdout",
     "output_type": "stream",
     "text": [
      "0.5137765477626995\n",
      "1.8\n"
     ]
    },
    {
     "name": "stderr",
     "output_type": "stream",
     "text": [
      "\r",
      " 62%|██████▏   | 37/60 [10:42<06:40, 17.41s/it]"
     ]
    },
    {
     "name": "stdout",
     "output_type": "stream",
     "text": [
      "0.4009605291582313\n",
      "1.85\n"
     ]
    },
    {
     "name": "stderr",
     "output_type": "stream",
     "text": [
      "\r",
      " 63%|██████▎   | 38/60 [11:00<06:25, 17.54s/it]"
     ]
    },
    {
     "name": "stdout",
     "output_type": "stream",
     "text": [
      "0.36998194338797374\n",
      "1.9000000000000001\n"
     ]
    },
    {
     "name": "stderr",
     "output_type": "stream",
     "text": [
      "\r",
      " 65%|██████▌   | 39/60 [11:18<06:10, 17.64s/it]"
     ]
    },
    {
     "name": "stdout",
     "output_type": "stream",
     "text": [
      "0.3144898234103486\n",
      "1.9500000000000002\n"
     ]
    },
    {
     "name": "stderr",
     "output_type": "stream",
     "text": [
      "\r",
      " 67%|██████▋   | 40/60 [11:34<05:45, 17.28s/it]"
     ]
    },
    {
     "name": "stdout",
     "output_type": "stream",
     "text": [
      "0.1633983654129901\n",
      "2.0\n"
     ]
    },
    {
     "name": "stderr",
     "output_type": "stream",
     "text": [
      "\r",
      " 68%|██████▊   | 41/60 [11:51<05:23, 17.03s/it]"
     ]
    },
    {
     "name": "stdout",
     "output_type": "stream",
     "text": [
      "0.18015623184775242\n",
      "2.0500000000000003\n"
     ]
    },
    {
     "name": "stderr",
     "output_type": "stream",
     "text": [
      "\r",
      " 70%|███████   | 42/60 [12:07<05:03, 16.85s/it]"
     ]
    },
    {
     "name": "stdout",
     "output_type": "stream",
     "text": [
      "0.33424644943210224\n",
      "2.1\n"
     ]
    },
    {
     "name": "stderr",
     "output_type": "stream",
     "text": [
      "\r",
      " 72%|███████▏  | 43/60 [12:23<04:44, 16.73s/it]"
     ]
    },
    {
     "name": "stdout",
     "output_type": "stream",
     "text": [
      "0.13923696584158715\n",
      "2.15\n"
     ]
    },
    {
     "name": "stderr",
     "output_type": "stream",
     "text": [
      "\r",
      " 73%|███████▎  | 44/60 [12:40<04:28, 16.78s/it]"
     ]
    },
    {
     "name": "stdout",
     "output_type": "stream",
     "text": [
      "0.022224673086203316\n",
      "2.2\n"
     ]
    },
    {
     "name": "stderr",
     "output_type": "stream",
     "text": [
      "\r",
      " 75%|███████▌  | 45/60 [12:57<04:13, 16.91s/it]"
     ]
    },
    {
     "name": "stdout",
     "output_type": "stream",
     "text": [
      "0.08101976565935061\n",
      "2.25\n"
     ]
    },
    {
     "name": "stderr",
     "output_type": "stream",
     "text": [
      "\r",
      " 77%|███████▋  | 46/60 [13:15<03:58, 17.04s/it]"
     ]
    },
    {
     "name": "stdout",
     "output_type": "stream",
     "text": [
      "0.19223780062122475\n",
      "2.3000000000000003\n"
     ]
    },
    {
     "name": "stderr",
     "output_type": "stream",
     "text": [
      "\r",
      " 78%|███████▊  | 47/60 [13:33<03:47, 17.47s/it]"
     ]
    },
    {
     "name": "stdout",
     "output_type": "stream",
     "text": [
      "0.3292174772417258\n",
      "2.35\n"
     ]
    },
    {
     "name": "stderr",
     "output_type": "stream",
     "text": [
      "\r",
      " 80%|████████  | 48/60 [13:51<03:29, 17.49s/it]"
     ]
    },
    {
     "name": "stdout",
     "output_type": "stream",
     "text": [
      "0.36448111646324827\n",
      "2.4000000000000004\n"
     ]
    },
    {
     "name": "stderr",
     "output_type": "stream",
     "text": [
      "\r",
      " 82%|████████▏ | 49/60 [14:07<03:08, 17.16s/it]"
     ]
    },
    {
     "name": "stdout",
     "output_type": "stream",
     "text": [
      "0.1574095982373132\n",
      "2.45\n"
     ]
    },
    {
     "name": "stderr",
     "output_type": "stream",
     "text": [
      "\r",
      " 83%|████████▎ | 50/60 [14:25<02:53, 17.39s/it]"
     ]
    },
    {
     "name": "stdout",
     "output_type": "stream",
     "text": [
      "0.4556737668594069\n",
      "2.5\n"
     ]
    },
    {
     "name": "stderr",
     "output_type": "stream",
     "text": [
      "\r",
      " 85%|████████▌ | 51/60 [14:42<02:35, 17.23s/it]"
     ]
    },
    {
     "name": "stdout",
     "output_type": "stream",
     "text": [
      "0.47792458182817016\n",
      "2.5500000000000003\n"
     ]
    },
    {
     "name": "stderr",
     "output_type": "stream",
     "text": [
      "\r",
      " 87%|████████▋ | 52/60 [14:59<02:17, 17.23s/it]"
     ]
    },
    {
     "name": "stdout",
     "output_type": "stream",
     "text": [
      "0.2972988501693311\n",
      "2.6\n"
     ]
    },
    {
     "name": "stderr",
     "output_type": "stream",
     "text": [
      "\r",
      " 88%|████████▊ | 53/60 [15:17<02:00, 17.28s/it]"
     ]
    },
    {
     "name": "stdout",
     "output_type": "stream",
     "text": [
      "0.40839277515432154\n",
      "2.6500000000000004\n"
     ]
    },
    {
     "name": "stderr",
     "output_type": "stream",
     "text": [
      "\r",
      " 90%|█████████ | 54/60 [15:34<01:43, 17.27s/it]"
     ]
    },
    {
     "name": "stdout",
     "output_type": "stream",
     "text": [
      "0.37735006958320505\n",
      "2.7\n"
     ]
    }
   ],
   "source": [
    "def f(t0,theta, node,t): #function\n",
    "    cpl = 0\n",
    "    \n",
    "    # sigma terms\n",
    "    for j in range(N):\n",
    "        cpl += A[node][j]*np.sin(theta[j]-theta[node])\n",
    "        \n",
    "    thetadot = G.nodes[node]['w'] + (lmd*abs(G.nodes[node]['w'])*cpl)/(sum(A[node]))\n",
    "    return thetadot\n",
    "\n",
    "# RK-4 method\n",
    "def rk4(t0,y0,xn,n): #integrating algorithm\n",
    "\n",
    "    # Calculating step size\n",
    "    h = (xn-t0)/n\n",
    "\n",
    "    time_series = []\n",
    "    for i in range(n):\n",
    "        temp = np.array(y0)\n",
    "        time_series.append(y0)\n",
    "        \n",
    "        for node in G.nodes():\n",
    "            k1 = h * (f(t0, y0, node, h))\n",
    "            k2 = h * (f((t0+h/2), (y0+k1/2),node, h))\n",
    "            k3 = h * (f((t0+h/2), (y0+k2/2),node, h))\n",
    "            k4 = h * (f((t0+h), (y0+k3),node, h))\n",
    "            k = (k1+2*k2+2*k3+k4)/6\n",
    "            yn = y0[node] + k\n",
    "\n",
    "            temp[node] = yn\n",
    "            t0 = t0+h\n",
    "        y0 = temp\n",
    "        \n",
    "        for node in G.nodes():\n",
    "            G.nodes[node]['theta'] = y0[node]\n",
    "    \n",
    "    return time_series\n",
    "\n",
    "def order(theta): #order parameter\n",
    "    z = sum(np.exp(theta*1j))/len(theta)\n",
    "    return np.absolute(z), np.angle(z)\n",
    "\n",
    "\n",
    "lmd0 = 0.05\n",
    "final_order = []\n",
    "\"\"\"Kuramoto Oscillator function\"\"\"\n",
    "laus = []\n",
    "lmd_stp = 60\n",
    "#h_lmd = int(lmd_stp/2)\n",
    "for i in tqdm(range(lmd_stp)):\n",
    "    lmd = lmd0*i\n",
    "    print(lmd)\n",
    "    # Inputs\n",
    "    t0 = 0\n",
    "    y0 = np.zeros(N)\n",
    "    \n",
    "    for i in range(N):\n",
    "        y0[i] = G.nodes[i]['theta']\n",
    "        \n",
    "    xn = 10 #final point\n",
    "    step = 2000 #number of iteration\n",
    "\n",
    "    data = np.array(rk4(t0,y0,xn,step))\n",
    "   \n",
    "    oreder = order(data[-1])\n",
    "    final_order.append(oreder[0])\n",
    "    print(oreder[0])\n",
    "\n",
    "plt.plot(final_order[0:lmd_stp])\n",
    "#plt.plot(laus[h_lmd+1:(lmd_stp)],final_order[h_lmd+1:(lmd_stp)])\n",
    "#plt.scatter(laus[0:h_lmd],final_order[0:h_lmd],c =\"red\", s=15)\n",
    "#plt.scatter(laus[h_lmd+1:lmd_stp],final_order[h_lmd+1:(lmd_stp)],c =\"green\", s=15)\n",
    "plt.xlabel(\"λ\")\n",
    "plt.ylabel(\"R\")\n",
    "\n",
    "plt.savefig(\"inc_dec_%d_%s\"%(N,typ))"
   ]
  },
  {
   "cell_type": "markdown",
   "id": "136f0d00",
   "metadata": {},
   "source": [
    "ts = ewstools.TimeSeries(data=final_order)\n",
    "\n",
    "ts.detrend(method='Lowess', span=0.2)\n",
    "ts.compute_var(rolling_window=0.5)\n",
    "ts.compute_auto(lag=1, rolling_window=0.5)\n",
    "ts.compute_auto(lag=2, rolling_window=0.5)\n",
    "ts.compute_ktau()"
   ]
  },
  {
   "cell_type": "markdown",
   "id": "a611571d-cb67-4bc4-bb2d-662f971832da",
   "metadata": {},
   "source": [
    "print((final_order))\n",
    "file = open(\"file1.txt\", \"w+\")\n",
    "content = str(final_order)\n",
    "file.write(content)\n",
    "file.close()"
   ]
  },
  {
   "cell_type": "markdown",
   "id": "2813dbef-515f-4061-95c3-e6f3c8103cdd",
   "metadata": {},
   "source": [
    "plt.plot(laus[0:50],final_order[0:50])\n",
    "plt.plot(laus[51:100]final_order[51:100])\n",
    "#plt.scatter(laus[0:99],final_order[101:200],c =\"red\", s=15)\n",
    "plt.xlabel(\"lambda\")\n",
    "plt.ylabel(\"R\")\n",
    "plt.savefig(\"test2\")\n",
    "\n"
   ]
  },
  {
   "cell_type": "code",
   "execution_count": null,
   "id": "ffc018cc-9def-4eb3-bc39-5b7c2bd1df36",
   "metadata": {},
   "outputs": [],
   "source": [
    "print(final_order)"
   ]
  },
  {
   "cell_type": "markdown",
   "id": "938ae827",
   "metadata": {},
   "source": [
    "#backbackorder = final_order[51:100]\n",
    "#backbackorder.reverse()\n",
    "\n",
    "\n",
    "plt.plot(laus[0:h_lmd],final_order[0:h_lmd])\n",
    "plt.plot(laus[h_lmd+1:(lmd_stp)],final_order[h_lmd+1:(lmd_stp)])\n",
    "plt.scatter(laus[0:h_lmd],final_order[0:h_lmd],c =\"red\", s=15)\n",
    "plt.scatter(laus[h_lmd+1:lmd_stp],final_order[h_lmd+1:(lmd_stp)],c =\"green\", s=15)\n",
    "\n",
    "\n",
    "plt.xlabel(\"lambda\")\n",
    "plt.ylabel(\"R\")\n",
    "\n",
    "plt.savefig(\"inc_dec_50_ER\")"
   ]
  },
  {
   "cell_type": "code",
   "execution_count": 12,
   "id": "77e34429",
   "metadata": {},
   "outputs": [
    {
     "data": {
      "text/plain": [
       "[<matplotlib.lines.Line2D at 0x7f9088765a30>]"
      ]
     },
     "execution_count": 12,
     "metadata": {},
     "output_type": "execute_result"
    },
    {
     "data": {
      "image/png": "[encoded data removed]",
      "text/plain": [
       "<Figure size 432x288 with 1 Axes>"
      ]
     },
     "metadata": {
      "needs_background": "light"
     },
     "output_type": "display_data"
    }
   ],
   "source": [
    "plt.plot(final_order[0:lmd_stp])\n"
   ]
  },
  {
   "cell_type": "code",
   "execution_count": null,
   "id": "84b52f16",
   "metadata": {},
   "outputs": [],
   "source": []
  }
 ],
 "metadata": {
  "kernelspec": {
   "display_name": "Python 3",
   "language": "python",
   "name": "python3"
  },
  "language_info": {
   "codemirror_mode": {
    "name": "ipython",
    "version": 3
   },
   "file_extension": ".py",
   "mimetype": "text/x-python",
   "name": "python",
   "nbconvert_exporter": "python",
   "pygments_lexer": "ipython3",
   "version": "3.8.8"
  }
 },
 "nbformat": 4,
 "nbformat_minor": 5
}
