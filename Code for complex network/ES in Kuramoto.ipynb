{
 "cells": [
  {
   "cell_type": "code",
   "execution_count": 1,
   "id": "12b994f9-e34e-4442-8c1f-3fcd7419f65a",
   "metadata": {},
   "outputs": [],
   "source": [
    "import networkx as nx\n",
    "from matplotlib import pyplot as plt\n",
    "import numpy as np\n",
    "import math\n",
    "from tqdm import tqdm\n",
    "import cmath"
   ]
  },
  {
   "cell_type": "code",
   "execution_count": 2,
   "id": "14e36cc4-5358-4375-96c9-48db8945a268",
   "metadata": {
    "tags": []
   },
   "outputs": [],
   "source": [
    "#N = int(input(\"enter the no. of nodes : \"))\n",
    "N =20"
   ]
  },
  {
   "cell_type": "code",
   "execution_count": 3,
   "id": "80b1314a-04f1-4794-a792-9d661bcc4d78",
   "metadata": {},
   "outputs": [],
   "source": [
    "def initialize():\n",
    "    G = nx.scale_free_graph(N) #scale free directed network is created\n",
    "    G = G.to_undirected() # changed to undirected graph\n",
    "    G.pos = nx.spring_layout(G) #to give nodes spring like structure\n",
    "    #nx.draw(G,node_color='#8F00FF', node_size=20) #to draw\n",
    "    \n",
    "    \n",
    "    for node in G.nodes_iter():\n",
    "        G.nodes[node]['w'] = np.random.rand()\n",
    "        G.nodes[node]['theta'] = np.random.rand()\n",
    "        G.nodes[node]['thetadot'] = 0\n",
    "\n",
    "    nextG = G.copy()\n",
    "\n"
   ]
  },
  {
   "cell_type": "code",
   "execution_count": null,
   "id": "bc27cb5b-639a-4e28-9e87-cfb7894126e2",
   "metadata": {},
   "outputs": [],
   "source": [
    "def update():\n",
    "    for i in tqdm(range(int(time/dt))):\n",
    "        for node in G.nodes():\n",
    "            cpl = 0\n",
    "            for j in range(N):\n",
    "                cpl += A[node][j]*np.sin(G.nodes[j]['theta']-G.nodes[node]['theta'])\n",
    "            nextG.nodes[node]['thetadot'] = G.nodes[node]['w'] + (lmd*abs(G.nodes[node]['w'])*cpl)/(sum(A))\n",
    "            nextG.nodes[node]['theta'] += nextG.nodes[node]['thetadot']*dt\n",
    "    #        print(nextG.nodes[node]['theta'])\n",
    "\n",
    "\n",
    "    "
   ]
  },
  {
   "cell_type": "code",
   "execution_count": null,
   "id": "1cbf012b-dffa-4c0a-96a1-19d6a40d5e10",
   "metadata": {},
   "outputs": [],
   "source": [
    "nx.draw(G,node_color='#8F00FF', node_size=2) #to draw\n",
    "G.edges(data = True)"
   ]
  },
  {
   "cell_type": "code",
   "execution_count": null,
   "id": "da5cba64-d6af-479a-9c26-24a7d99a51ba",
   "metadata": {},
   "outputs": [],
   "source": [
    "#extracting adjacency matrix\n",
    "p = nx.adjacency_matrix(G).toarray()  \n",
    "print(p)\n"
   ]
  },
  {
   "cell_type": "code",
   "execution_count": null,
   "id": "fc720c87-0aa0-4a26-b270-639f76d06ead",
   "metadata": {},
   "outputs": [],
   "source": [
    "print(nx.info(G))"
   ]
  },
  {
   "cell_type": "code",
   "execution_count": null,
   "id": "7e7ed198-0253-44e6-9f11-0f8390877151",
   "metadata": {},
   "outputs": [],
   "source": [
    "A = nx.to_numpy_matrix(G)\n",
    "print(A)"
   ]
  },
  {
   "cell_type": "code",
   "execution_count": null,
   "id": "ee2bb7a0-d9e6-4abc-b107-eda39d46fd8b",
   "metadata": {},
   "outputs": [],
   "source": [
    "#changing weighted matrix to unweighted\n",
    "A = (p>=1).astype(int)\n",
    "print(A)\n",
    "deg = G.degree()\n",
    "deg = np.array(deg)\n",
    "print(deg)"
   ]
  },
  {
   "cell_type": "code",
   "execution_count": null,
   "id": "3742a35f-430b-4227-8235-7614b65c6cd8",
   "metadata": {},
   "outputs": [],
   "source": [
    "nx.closeness_centrality(G)"
   ]
  },
  {
   "cell_type": "code",
   "execution_count": null,
   "id": "e0118f85-0d03-4c20-88b3-34d19a1e9c81",
   "metadata": {},
   "outputs": [],
   "source": [
    "#degree and power law\n",
    "D_e = np.zeros(N)\n",
    "for i in range(N):\n",
    "    D_e[i] = sum(A[i])\n",
    "\n",
    "print(D_e)\n",
    "D_e = np.sort(D_e)[::-1]\n",
    "N_ = np.arange(0,N,1)\n",
    "plt.plot(N_,D_e) #ploting degree vs node curve\n"
   ]
  },
  {
   "cell_type": "code",
   "execution_count": null,
   "id": "393f388b-291c-4d3c-b51c-c55db8e11ba3",
   "metadata": {},
   "outputs": [],
   "source": [
    "lmd = 0.5\n",
    "\n"
   ]
  },
  {
   "cell_type": "code",
   "execution_count": null,
   "id": "900b5e2b-0643-4d2f-a4a5-c69bcc6693e4",
   "metadata": {},
   "outputs": [],
   "source": [
    "cpl = 0\n",
    "dt = 0.01\n",
    "time = 1\n",
    "\n",
    "for i in tqdm(range(int(time/dt))):\n",
    "    for node in G.nodes():\n",
    "        cpl = 0\n",
    "        for j in range(N):\n",
    "            cpl += A[node][j]*np.sin(G.nodes[j]['theta']-G.nodes[node]['theta'])\n",
    "            \n",
    "        nextG.nodes[node]['thetadot'] = G.nodes[node]['w'] + (lmd*abs(G.nodes[node]['w'])*cpl)/(sum(A))\n",
    "        \n",
    "        \n",
    "        nextG.nodes[node]['theta'] += nextG.nodes[node]['thetadot']*dt\n",
    "#        print(nextG.nodes[node]['theta'])\n",
    "\n",
    "\n",
    "G = nextG.copy()\n",
    "\n"
   ]
  },
  {
   "cell_type": "code",
   "execution_count": null,
   "id": "238423d2-e545-41b4-9906-b589a693429f",
   "metadata": {},
   "outputs": [],
   "source": [
    "def f():\n",
    "    for node in G.nodes():\n",
    "        cpl = 0\n",
    "        for j in range(N):\n",
    "            cpl += A[node][j]*np.sin(G.nodes[j]['theta']-G.nodes[node]['theta'])\n",
    "            \n",
    "        nextG.nodes[node]['thetadot'] = G.nodes[node]['w'] + (lmd*abs(G.nodes[node]['w'])*cpl)/(sum(A))\n",
    "        \n",
    "        \n",
    "        nextG.nodes[node]['theta'] += nextG.nodes[node]['thetadot']*dt\n",
    "        \n",
    "    return nextG.nodes[node]['thetadot']\n",
    "    "
   ]
  },
  {
   "cell_type": "code",
   "execution_count": null,
   "id": "55aa62cb-8ff2-43f0-8e74-b006025f3ae7",
   "metadata": {},
   "outputs": [],
   "source": [
    "nx.draw(nextG, node_size=20)"
   ]
  },
  {
   "cell_type": "markdown",
   "id": "4e5c884e-35a8-4032-9230-0ec4e582e92f",
   "metadata": {},
   "source": [
    "orpar = 0\n",
    "img = 0 + 1j\n",
    "print(type(nextG.nodes[node]['theta']))\n",
    "for node in nextG.nodes():\n",
    "#    orpar += math.exp(img*float(nextG.nodes[node]['theta']))\n",
    "    print(nextG.nodes[node]['theta'])\n",
    "    \n",
    "    "
   ]
  },
  {
   "cell_type": "code",
   "execution_count": null,
   "id": "956657bd-daba-480a-82e7-49c91cd01a79",
   "metadata": {},
   "outputs": [],
   "source": [
    "orpar = 0\n",
    "img = 0 + 1j\n",
    "print((nextG.nodes[node]['theta']).shape)\n",
    "for node in nextG.nodes():\n",
    "    orpar += cmath.exp(img*(nextG.nodes[node]['theta'][node]))\n",
    "#    print(nextG.nodes[node]['theta'])\n",
    "\n",
    "orpar = orpar/N\n",
    "\n",
    "\n",
    "print(orpar)"
   ]
  },
  {
   "cell_type": "code",
   "execution_count": 9,
   "id": "9e401757-ab9d-407b-83b5-405c1a2123bb",
   "metadata": {},
   "outputs": [
    {
     "name": "stdout",
     "output_type": "stream",
     "text": [
      "Enter initial conditions:\n"
     ]
    },
    {
     "name": "stdin",
     "output_type": "stream",
     "text": [
      "x0 =  0.1\n",
      "y0 =  0.1\n"
     ]
    },
    {
     "name": "stdout",
     "output_type": "stream",
     "text": [
      "Enter calculation point: \n"
     ]
    },
    {
     "name": "stdin",
     "output_type": "stream",
     "text": [
      "xn =  8\n"
     ]
    },
    {
     "name": "stdout",
     "output_type": "stream",
     "text": [
      "Enter number of steps:\n"
     ]
    },
    {
     "name": "stdin",
     "output_type": "stream",
     "text": [
      "Number of steps =  1000\n"
     ]
    },
    {
     "name": "stdout",
     "output_type": "stream",
     "text": [
      "\n",
      "--------SOLUTION--------\n",
      "-------------------------\n",
      "x0\ty0\tyn\n",
      "-------------------------\n"
     ]
    },
    {
     "ename": "NameError",
     "evalue": "name 'G' is not defined",
     "output_type": "error",
     "traceback": [
      "\u001b[0;31m---------------------------------------------------------------------------\u001b[0m",
      "\u001b[0;31mNameError\u001b[0m                                 Traceback (most recent call last)",
      "\u001b[0;32m<ipython-input-9-b207f19f915f>\u001b[0m in \u001b[0;36m<module>\u001b[0;34m\u001b[0m\n\u001b[1;32m     52\u001b[0m \u001b[0;34m\u001b[0m\u001b[0m\n\u001b[1;32m     53\u001b[0m \u001b[0;31m# RK4 method call\u001b[0m\u001b[0;34m\u001b[0m\u001b[0;34m\u001b[0m\u001b[0;34m\u001b[0m\u001b[0m\n\u001b[0;32m---> 54\u001b[0;31m \u001b[0mrk4\u001b[0m\u001b[0;34m(\u001b[0m\u001b[0mx0\u001b[0m\u001b[0;34m,\u001b[0m\u001b[0my0\u001b[0m\u001b[0;34m,\u001b[0m\u001b[0mxn\u001b[0m\u001b[0;34m,\u001b[0m\u001b[0mstep\u001b[0m\u001b[0;34m)\u001b[0m\u001b[0;34m\u001b[0m\u001b[0;34m\u001b[0m\u001b[0m\n\u001b[0m",
      "\u001b[0;32m<ipython-input-9-b207f19f915f>\u001b[0m in \u001b[0;36mrk4\u001b[0;34m(x0, y0, xn, n)\u001b[0m\n\u001b[1;32m     27\u001b[0m     \u001b[0mprint\u001b[0m\u001b[0;34m(\u001b[0m\u001b[0;34m'-------------------------'\u001b[0m\u001b[0;34m)\u001b[0m\u001b[0;34m\u001b[0m\u001b[0;34m\u001b[0m\u001b[0m\n\u001b[1;32m     28\u001b[0m     \u001b[0;32mfor\u001b[0m \u001b[0mi\u001b[0m \u001b[0;32min\u001b[0m \u001b[0mrange\u001b[0m\u001b[0;34m(\u001b[0m\u001b[0mn\u001b[0m\u001b[0;34m)\u001b[0m\u001b[0;34m:\u001b[0m\u001b[0;34m\u001b[0m\u001b[0;34m\u001b[0m\u001b[0m\n\u001b[0;32m---> 29\u001b[0;31m         \u001b[0mk1\u001b[0m \u001b[0;34m=\u001b[0m \u001b[0mh\u001b[0m \u001b[0;34m*\u001b[0m \u001b[0;34m(\u001b[0m\u001b[0mf\u001b[0m\u001b[0;34m(\u001b[0m\u001b[0mx0\u001b[0m\u001b[0;34m,\u001b[0m \u001b[0my0\u001b[0m\u001b[0;34m)\u001b[0m\u001b[0;34m)\u001b[0m\u001b[0;34m\u001b[0m\u001b[0;34m\u001b[0m\u001b[0m\n\u001b[0m\u001b[1;32m     30\u001b[0m         \u001b[0mk2\u001b[0m \u001b[0;34m=\u001b[0m \u001b[0mh\u001b[0m \u001b[0;34m*\u001b[0m \u001b[0;34m(\u001b[0m\u001b[0mf\u001b[0m\u001b[0;34m(\u001b[0m\u001b[0;34m(\u001b[0m\u001b[0mx0\u001b[0m\u001b[0;34m+\u001b[0m\u001b[0mh\u001b[0m\u001b[0;34m/\u001b[0m\u001b[0;36m2\u001b[0m\u001b[0;34m)\u001b[0m\u001b[0;34m,\u001b[0m \u001b[0;34m(\u001b[0m\u001b[0my0\u001b[0m\u001b[0;34m+\u001b[0m\u001b[0mk1\u001b[0m\u001b[0;34m/\u001b[0m\u001b[0;36m2\u001b[0m\u001b[0;34m)\u001b[0m\u001b[0;34m)\u001b[0m\u001b[0;34m)\u001b[0m\u001b[0;34m\u001b[0m\u001b[0;34m\u001b[0m\u001b[0m\n\u001b[1;32m     31\u001b[0m         \u001b[0mk3\u001b[0m \u001b[0;34m=\u001b[0m \u001b[0mh\u001b[0m \u001b[0;34m*\u001b[0m \u001b[0;34m(\u001b[0m\u001b[0mf\u001b[0m\u001b[0;34m(\u001b[0m\u001b[0;34m(\u001b[0m\u001b[0mx0\u001b[0m\u001b[0;34m+\u001b[0m\u001b[0mh\u001b[0m\u001b[0;34m/\u001b[0m\u001b[0;36m2\u001b[0m\u001b[0;34m)\u001b[0m\u001b[0;34m,\u001b[0m \u001b[0;34m(\u001b[0m\u001b[0my0\u001b[0m\u001b[0;34m+\u001b[0m\u001b[0mk2\u001b[0m\u001b[0;34m/\u001b[0m\u001b[0;36m2\u001b[0m\u001b[0;34m)\u001b[0m\u001b[0;34m)\u001b[0m\u001b[0;34m)\u001b[0m\u001b[0;34m\u001b[0m\u001b[0;34m\u001b[0m\u001b[0m\n",
      "\u001b[0;32m<ipython-input-9-b207f19f915f>\u001b[0m in \u001b[0;36mf\u001b[0;34m(x, y)\u001b[0m\n\u001b[1;32m      1\u001b[0m \u001b[0;32mdef\u001b[0m \u001b[0mf\u001b[0m\u001b[0;34m(\u001b[0m\u001b[0mx\u001b[0m\u001b[0;34m,\u001b[0m\u001b[0my\u001b[0m\u001b[0;34m)\u001b[0m\u001b[0;34m:\u001b[0m\u001b[0;34m\u001b[0m\u001b[0;34m\u001b[0m\u001b[0m\n\u001b[0;32m----> 2\u001b[0;31m     \u001b[0;32mfor\u001b[0m \u001b[0mnode\u001b[0m \u001b[0;32min\u001b[0m \u001b[0mG\u001b[0m\u001b[0;34m.\u001b[0m\u001b[0mnodes\u001b[0m\u001b[0;34m(\u001b[0m\u001b[0;34m)\u001b[0m\u001b[0;34m:\u001b[0m\u001b[0;34m\u001b[0m\u001b[0;34m\u001b[0m\u001b[0m\n\u001b[0m\u001b[1;32m      3\u001b[0m         \u001b[0mcpl\u001b[0m \u001b[0;34m=\u001b[0m \u001b[0;36m0\u001b[0m\u001b[0;34m\u001b[0m\u001b[0;34m\u001b[0m\u001b[0m\n\u001b[1;32m      4\u001b[0m         \u001b[0;32mfor\u001b[0m \u001b[0mj\u001b[0m \u001b[0;32min\u001b[0m \u001b[0mrange\u001b[0m\u001b[0;34m(\u001b[0m\u001b[0mN\u001b[0m\u001b[0;34m)\u001b[0m\u001b[0;34m:\u001b[0m\u001b[0;34m\u001b[0m\u001b[0;34m\u001b[0m\u001b[0m\n\u001b[1;32m      5\u001b[0m             \u001b[0mcpl\u001b[0m \u001b[0;34m+=\u001b[0m \u001b[0mA\u001b[0m\u001b[0;34m[\u001b[0m\u001b[0mnode\u001b[0m\u001b[0;34m]\u001b[0m\u001b[0;34m[\u001b[0m\u001b[0mj\u001b[0m\u001b[0;34m]\u001b[0m\u001b[0;34m*\u001b[0m\u001b[0mnp\u001b[0m\u001b[0;34m.\u001b[0m\u001b[0msin\u001b[0m\u001b[0;34m(\u001b[0m\u001b[0mG\u001b[0m\u001b[0;34m.\u001b[0m\u001b[0mnodes\u001b[0m\u001b[0;34m[\u001b[0m\u001b[0mj\u001b[0m\u001b[0;34m]\u001b[0m\u001b[0;34m[\u001b[0m\u001b[0;34m'theta'\u001b[0m\u001b[0;34m]\u001b[0m\u001b[0;34m-\u001b[0m\u001b[0mG\u001b[0m\u001b[0;34m.\u001b[0m\u001b[0mnodes\u001b[0m\u001b[0;34m[\u001b[0m\u001b[0mnode\u001b[0m\u001b[0;34m]\u001b[0m\u001b[0;34m[\u001b[0m\u001b[0;34m'theta'\u001b[0m\u001b[0;34m]\u001b[0m\u001b[0;34m)\u001b[0m\u001b[0;34m\u001b[0m\u001b[0;34m\u001b[0m\u001b[0m\n",
      "\u001b[0;31mNameError\u001b[0m: name 'G' is not defined"
     ]
    }
   ],
   "source": [
    "def f(x,y):\n",
    "    for node in G.nodes():\n",
    "        cpl = 0\n",
    "        for j in range(N):\n",
    "            cpl += A[node][j]*np.sin(G.nodes[j]['theta']-G.nodes[node]['theta'])\n",
    "            \n",
    "        nextG.nodes[node]['thetadot'] = G.nodes[node]['w'] + (lmd*abs(G.nodes[node]['w'])*cpl)/(sum(A))\n",
    "        \n",
    "        \n",
    "        nextG.nodes[node]['theta'] += nextG.nodes[node]['thetadot']*dt\n",
    "        \n",
    "    return nextG.nodes[node]['thetadot']\n",
    "    \n",
    "\n",
    "# or\n",
    "# f = lambda x: x+y\n",
    "\n",
    "# RK-4 method\n",
    "def rk4(x0,y0,xn,n):\n",
    "    \n",
    "    # Calculating step size\n",
    "    h = (xn-x0)/n\n",
    "    \n",
    "    print('\\n--------SOLUTION--------')\n",
    "    print('-------------------------')    \n",
    "    print('x0\\ty0\\tyn')\n",
    "    print('-------------------------')\n",
    "    for i in range(n):\n",
    "        k1 = h * (f(x0, y0))\n",
    "        k2 = h * (f((x0+h/2), (y0+k1/2)))\n",
    "        k3 = h * (f((x0+h/2), (y0+k2/2)))\n",
    "        k4 = h * (f((x0+h), (y0+k3)))\n",
    "        k = (k1+2*k2+2*k3+k4)/6\n",
    "        yn = y0 + k\n",
    "        print('%.4f\\t%.4f\\t%.4f'% (x0,y0,yn) )\n",
    "        print('-------------------------')\n",
    "        y0 = yn\n",
    "        x0 = x0+h\n",
    "    \n",
    "    print('\\nAt x=%.4f, y=%.4f' %(xn,yn))\n",
    "\n",
    "# Inputs\n",
    "print('Enter initial conditions:')\n",
    "x0 = float(input('x0 = '))\n",
    "y0 = float(input('y0 = '))\n",
    "\n",
    "print('Enter calculation point: ')\n",
    "xn = float(input('xn = '))\n",
    "\n",
    "print('Enter number of steps:')\n",
    "step = int(input('Number of steps = '))\n",
    "\n",
    "# RK4 method call\n",
    "rk4(x0,y0,xn,step)"
   ]
  },
  {
   "cell_type": "code",
   "execution_count": null,
   "id": "1a0954cf-3fd5-4342-a8a1-ad706f5fc37d",
   "metadata": {},
   "outputs": [],
   "source": []
  },
  {
   "cell_type": "code",
   "execution_count": 6,
   "id": "02a50738-43c6-498d-b4f7-b6fcdaa52260",
   "metadata": {},
   "outputs": [],
   "source": [
    "import numpy as np\n",
    "from scipy.integrate import odeint\n",
    "from ddeint import ddeint\n",
    "\n",
    "\n",
    "class KuramotoModel:\n",
    "    \"\"\" Class to hold the Kuramoto Model configuration and perform numerical integration.\n",
    "\n",
    "        It instantiates a callable object f in such a way that f(theta, t) returns the value of the Kuramoto Model\n",
    "        vector field, where theta is the N-dimensional state variable of the system and t is the time variable.\n",
    "\n",
    "        Attributes\n",
    "        ----------\n",
    "        N : int\n",
    "            Quantity of oscillators in the network.\n",
    "        w : ndarray of shape (N)\n",
    "            Natural frequency of each oscillator.\n",
    "        A : list of ndarray of size (N)\n",
    "            Coupling graph as adjacency list, i.e., A[i] contains the neighbor list of the i-th vertex.\n",
    "        d : ndarray of shape (N)\n",
    "            In-degree of the each vertex of the coupling graph.\n",
    "        c : float\n",
    "            Coupling parameter.\n",
    "        tau : float\n",
    "            Overall time delay among nodes.\n",
    "        d_theta : ndarray of shape (N)\n",
    "            Value evaluated of the vector field.\n",
    "    \"\"\"\n",
    "\n",
    "    def __init__(self, w, E, c=1, tau=0):\n",
    "        \"\"\"\n",
    "\n",
    "        Parameters\n",
    "        ----------\n",
    "        w : ndarray of shape (N)\n",
    "            Natural frequency of each oscillator.\n",
    "        E : ndarray of shape (Ne,2)\n",
    "            Coupling graph as directed edge list of size Ne, i.e,\n",
    "            e[i] = [p, q] means that the p -> q is the i-th directed edge of the coupling graph.\n",
    "        c : float\n",
    "            Coupling parameter.\n",
    "        tau : float\n",
    "            Overall time delay among nodes.\n",
    "        \"\"\"\n",
    "        self.N = w.size\n",
    "        self.w = w\n",
    "        self.A = [E[E[:, 0] == i, 1].astype(int) for i in range(0, self.N)]  # Edge list E into adjacency list A.\n",
    "        self.d = [len(self.A[i]) for i in range(0, self.N)]\n",
    "        self.c = c\n",
    "        self.d_theta = np.zeros(self.N)\n",
    "        self.tau = tau\n",
    "\n",
    "    def __call__(self, theta, t=0):\n",
    "        \"\"\"\n",
    "        Evaluate the instance of the Kuramoto Model vector field with the given attributes.\n",
    "\n",
    "        Parameters\n",
    "        ----------\n",
    "        theta : ndarray of shape (N)\n",
    "            The phase value of the N oscillators in the network. It must be a function if tau>0.\n",
    "        t: float\n",
    "            The time variable. This parameter allows compatibility with odeint and ddeint from scipy.integrate.\n",
    "        tau: float\n",
    "            Overall time delay among nodes. This parameter is included here to allow compatiblitly with ddeint.\n",
    "\n",
    "        Returns\n",
    "        -------\n",
    "        d_theta : ndarray of shape (N)\n",
    "            The evaluated value, that is, d_theta = f(theta, t)\n",
    "\n",
    "        \"\"\"\n",
    "        if self.tau == 0:\n",
    "            theta_t, theta_tau = theta, theta\n",
    "        else:\n",
    "            theta_t, theta_tau = theta(t), theta(t - self.tau)\n",
    "\n",
    "        for i in range(0, self.N):\n",
    "            self.d_theta[i] = self.w[i] + \\\n",
    "                              (self.c / self.d[i]) * sum(np.sin(theta_tau[j] - theta_t[i]) for j in self.A[i])\n",
    "\n",
    "        return self.d_theta\n",
    "\n",
    "    def integrate(self, theta0, tf=100, h=0.01):\n",
    "        \"\"\"Numerical integation of the Kuramoto Model with odeint (tau=0) or ddeint (tau>0).\n",
    "\n",
    "        Parameters\n",
    "        ----------\n",
    "        theta0 : ndarray of shape (N)\n",
    "            Initial condition. If tau>0, (lambda t: theta0 - t * self.w) is used as initial condition.\n",
    "        tf : float\n",
    "            The end of the integration interval. It starts at t=0.\n",
    "        h : float\n",
    "            Numerical integration step.\n",
    "\n",
    "        Returns\n",
    "        -------\n",
    "        t : ndarray\n",
    "            Time discretization points, t = [0, h, ..., tf-h, tf].\n",
    "        theta : ndarray of shape (len(t), N)\n",
    "            Numerical solution for each time in t.\n",
    "        \"\"\"\n",
    "\n",
    "        t = np.arange(0, tf + h / 2, h)\n",
    "        if self.tau == 0:\n",
    "            theta = odeint(self, theta0, t, hmax=h)\n",
    "        else:\n",
    "            theta0_hist = lambda t: theta0 + t * self.w\n",
    "            theta = ddeint(self, theta0_hist, t)\n",
    "\n",
    "        return t, theta"
   ]
  },
  {
   "cell_type": "code",
   "execution_count": null,
   "id": "a39e8975-8560-4e8f-8f81-8873e092451e",
   "metadata": {},
   "outputs": [],
   "source": []
  }
 ],
 "metadata": {
  "kernelspec": {
   "display_name": "Python 3",
   "language": "python",
   "name": "python3"
  },
  "language_info": {
   "codemirror_mode": {
    "name": "ipython",
    "version": 3
   },
   "file_extension": ".py",
   "mimetype": "text/x-python",
   "name": "python",
   "nbconvert_exporter": "python",
   "pygments_lexer": "ipython3",
   "version": "3.8.8"
  }
 },
 "nbformat": 4,
 "nbformat_minor": 5
}
