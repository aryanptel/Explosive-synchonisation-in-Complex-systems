{
 "cells": [
  {
   "cell_type": "raw",
   "id": "c0613a13-7cb0-4afc-a57c-4d39af5ebda1",
   "metadata": {},
   "source": [
    "for ring network"
   ]
  },
  {
   "cell_type": "code",
   "execution_count": 1,
   "id": "a0fa311e-92a3-476b-99aa-dec6346766ed",
   "metadata": {},
   "outputs": [
    {
     "name": "stdout",
     "output_type": "stream",
     "text": [
      "no. of nodes: 50\n",
      "no. of time steps: 1000\n",
      "no. of lamda steps:40\n"
     ]
    }
   ],
   "source": [
    "import networkx as nx\n",
    "from matplotlib import pyplot as plt\n",
    "import numpy as np\n",
    "import math\n",
    "from tqdm import tqdm\n",
    "import cmath\n",
    "import csv\n",
    "\n",
    "\n",
    "N = int(input(\"no. of nodes: \"))\n",
    "step = int(input(\"no. of time steps: \"))\n",
    "lmd_steps  = int(input(\"no. of lamda steps:\"))"
   ]
  },
  {
   "cell_type": "raw",
   "id": "8aa7c6f1-f70e-49c3-ad32-4aaa0d4cde15",
   "metadata": {},
   "source": [
    "Raw Network matrix and graph"
   ]
  },
  {
   "cell_type": "code",
   "execution_count": 2,
   "id": "0d53f9a5-2b2a-4827-bf90-9b4566b41f3c",
   "metadata": {},
   "outputs": [
    {
     "name": "stdout",
     "output_type": "stream",
     "text": [
      "[[0 1 0 ... 0 0 1]\n",
      " [1 0 1 ... 0 0 0]\n",
      " [0 1 0 ... 0 0 0]\n",
      " ...\n",
      " [0 0 0 ... 0 1 0]\n",
      " [0 0 0 ... 1 0 1]\n",
      " [1 0 0 ... 0 1 0]]\n"
     ]
    },
    {
     "data": {
      "image/png": "[encoded data removed]",
      "text/plain": [
       "<Figure size 432x288 with 1 Axes>"
      ]
     },
     "metadata": {},
     "output_type": "display_data"
    }
   ],
   "source": [
    "ring_matrix = [[ 0 for j in range(N)] for i in range(N)]\n",
    "#print(ring_matrix)\n",
    "\n",
    "for i in range(N-1):\n",
    "    ring_matrix[i][i+1] = 1\n",
    "    ring_matrix[i+1][i] = 1\n",
    "ring_matrix[0][N-1] = 1\n",
    "ring_matrix[N-1][0] = 1\n",
    "\n",
    "ring_matrix = np.array(ring_matrix)\n",
    "print(ring_matrix)\n",
    "\n",
    "\n",
    "G = nx.from_numpy_matrix(ring_matrix)\n",
    "nx.draw(G,node_color='#8F00FF',with_labels = True, node_size=20)"
   ]
  },
  {
   "cell_type": "markdown",
   "id": "99fdd31a-3f23-49f2-a28f-57a55d6eee5c",
   "metadata": {},
   "source": [
    "\n",
    "\n",
    "G = nx.scale_free_graph(N) #scale free directed network is created\n",
    "G = G.to_undirected() # changed to undirected graph\n",
    "G.pos = nx.spring_layout(G) #to give nodes spring like structure\n",
    "    #nx.draw(G,node_color='#8F00FF', node_size=20) #to draw\n",
    "\n",
    "\n"
   ]
  },
  {
   "cell_type": "code",
   "execution_count": 3,
   "id": "92cb4fc6-ef5d-4d75-a8bb-e1413565f58f",
   "metadata": {
    "tags": []
   },
   "outputs": [],
   "source": [
    "def order(theta):\n",
    "        z = sum(np.exp(theta*1j))/len(theta)\n",
    "    #    print(np.absolute(z), np.angle(z))\n",
    "        return np.absolute(z), np.angle(z)\n",
    "\n",
    "def rk4(t0,y0,xn,n):\n",
    "\n",
    "        # Calculating step size\n",
    "        h = (xn-t0)/n\n",
    "\n",
    "        time_series = []\n",
    "#        print(n,N)\n",
    "        for i in range(n):\n",
    "    #        data = np.zeros(N)\n",
    "            temp = np.array(y0)\n",
    "\n",
    "            time_series.append(y0) \n",
    "    #        print(time_series)\n",
    "            for node in G.nodes():\n",
    "\n",
    "                k1 = h * (f(t0, y0, node, h))\n",
    "                k2 = h * (f((t0+h/2), (y0+k1/2),node, h))\n",
    "                k3 = h * (f((t0+h/2), (y0+k2/2),node, h))\n",
    "                k4 = h * (f((t0+h), (y0+k3),node, h))\n",
    "                k = (k1+2*k2+2*k3+k4)/6\n",
    "\n",
    "                yn = y0[node] + k\n",
    "\n",
    "                temp[node] = yn\n",
    "                t0 = t0+h\n",
    "    #            data[node] = yn\n",
    "            y0 = temp\n",
    "        return time_series\n",
    "\n",
    "def f(t0,theta, node,t):\n",
    "        cpl = 0\n",
    "\n",
    "\n",
    "        # sigma terms\n",
    "        for j in range(N):\n",
    "            cpl += A[node][j]*np.sin(theta[j]-theta[node])*(abs(nextG.nodes[node]['w']-nextG.nodes[j]['w'])**alpha)\n",
    "\n",
    "\n",
    "        thetadot = nextG.nodes[node]['w'] + (lmd/3)*cpl\n",
    "        return thetadot\n"
   ]
  },
  {
   "cell_type": "code",
   "execution_count": 4,
   "id": "0380cc5f-8410-4b98-8e78-962836d2fded",
   "metadata": {},
   "outputs": [
    {
     "name": "stderr",
     "output_type": "stream",
     "text": [
      "\r",
      "  0%|          | 0/40 [00:00<?, ?it/s]"
     ]
    },
    {
     "name": "stdout",
     "output_type": "stream",
     "text": [
      "[[0 1 0 ... 0 0 1]\n",
      " [1 0 1 ... 0 0 0]\n",
      " [0 1 0 ... 0 0 0]\n",
      " ...\n",
      " [0 0 0 ... 0 1 0]\n",
      " [0 0 0 ... 1 0 1]\n",
      " [1 0 0 ... 0 1 0]]\n",
      "0.0\n"
     ]
    },
    {
     "name": "stderr",
     "output_type": "stream",
     "text": [
      "\r",
      "  2%|▎         | 1/40 [01:44<1:08:00, 104.64s/it]"
     ]
    },
    {
     "name": "stdout",
     "output_type": "stream",
     "text": [
      "(0.10861953948865338, -1.8651591715647295)\n",
      "0.01\n"
     ]
    },
    {
     "name": "stderr",
     "output_type": "stream",
     "text": [
      "\r",
      "  5%|▌         | 2/40 [03:19<1:02:39, 98.93s/it] "
     ]
    },
    {
     "name": "stdout",
     "output_type": "stream",
     "text": [
      "(0.1079772289878155, -1.8723989831360732)\n",
      "0.02\n"
     ]
    },
    {
     "name": "stderr",
     "output_type": "stream",
     "text": [
      "\r",
      "  8%|▊         | 3/40 [05:07<1:03:38, 103.19s/it]"
     ]
    },
    {
     "name": "stdout",
     "output_type": "stream",
     "text": [
      "(0.10742444252285974, -1.8855348430068406)\n",
      "0.03\n"
     ]
    },
    {
     "name": "stderr",
     "output_type": "stream",
     "text": [
      "\r",
      " 10%|█         | 4/40 [06:51<1:02:01, 103.38s/it]"
     ]
    },
    {
     "name": "stdout",
     "output_type": "stream",
     "text": [
      "(0.1069945346289804, -1.9045871359395286)\n",
      "0.04\n"
     ]
    },
    {
     "name": "stderr",
     "output_type": "stream",
     "text": [
      "\r",
      " 12%|█▎        | 5/40 [08:44<1:02:21, 106.90s/it]"
     ]
    },
    {
     "name": "stdout",
     "output_type": "stream",
     "text": [
      "(0.10673523879423488, -1.9294249752395989)\n",
      "0.05\n"
     ]
    },
    {
     "name": "stderr",
     "output_type": "stream",
     "text": [
      "\r",
      " 15%|█▌        | 6/40 [10:20<58:27, 103.16s/it]  "
     ]
    },
    {
     "name": "stdout",
     "output_type": "stream",
     "text": [
      "(0.10670646957132654, -1.9597064063514296)\n",
      "0.06\n"
     ]
    },
    {
     "name": "stderr",
     "output_type": "stream",
     "text": [
      "\r",
      " 18%|█▊        | 7/40 [11:49<54:12, 98.56s/it] "
     ]
    },
    {
     "name": "stdout",
     "output_type": "stream",
     "text": [
      "(0.10697501808830252, -1.994805580962336)\n",
      "0.07\n"
     ]
    },
    {
     "name": "stderr",
     "output_type": "stream",
     "text": [
      "\r",
      " 20%|██        | 8/40 [13:31<53:04, 99.51s/it]"
     ]
    },
    {
     "name": "stdout",
     "output_type": "stream",
     "text": [
      "(0.10760545423354394, -2.033743131357781)\n",
      "0.08\n"
     ]
    },
    {
     "name": "stderr",
     "output_type": "stream",
     "text": [
      " 20%|██        | 8/40 [13:33<54:13, 101.68s/it]\n"
     ]
    },
    {
     "ename": "KeyboardInterrupt",
     "evalue": "",
     "output_type": "error",
     "traceback": [
      "\u001b[0;31m---------------------------------------------------------------------------\u001b[0m",
      "\u001b[0;31mKeyboardInterrupt\u001b[0m                         Traceback (most recent call last)",
      "\u001b[0;32m<ipython-input-4-d410c4eb9dd1>\u001b[0m in \u001b[0;36m<module>\u001b[0;34m\u001b[0m\n\u001b[1;32m     52\u001b[0m \u001b[0;34m\u001b[0m\u001b[0m\n\u001b[1;32m     53\u001b[0m \u001b[0;34m\u001b[0m\u001b[0m\n\u001b[0;32m---> 54\u001b[0;31m     \u001b[0mdata\u001b[0m \u001b[0;34m=\u001b[0m \u001b[0mnp\u001b[0m\u001b[0;34m.\u001b[0m\u001b[0marray\u001b[0m\u001b[0;34m(\u001b[0m\u001b[0mrk4\u001b[0m\u001b[0;34m(\u001b[0m\u001b[0mt0\u001b[0m\u001b[0;34m,\u001b[0m\u001b[0my0\u001b[0m\u001b[0;34m,\u001b[0m\u001b[0mxn\u001b[0m\u001b[0;34m,\u001b[0m\u001b[0mstep\u001b[0m\u001b[0;34m)\u001b[0m\u001b[0;34m)\u001b[0m\u001b[0;34m\u001b[0m\u001b[0;34m\u001b[0m\u001b[0m\n\u001b[0m\u001b[1;32m     55\u001b[0m     \u001b[0;31m#data = np.array(data)\u001b[0m\u001b[0;34m\u001b[0m\u001b[0;34m\u001b[0m\u001b[0;34m\u001b[0m\u001b[0m\n\u001b[1;32m     56\u001b[0m \u001b[0;34m\u001b[0m\u001b[0m\n",
      "\u001b[0;32m<ipython-input-3-616bafdd103a>\u001b[0m in \u001b[0;36mrk4\u001b[0;34m(t0, y0, xn, n)\u001b[0m\n\u001b[1;32m     22\u001b[0m                 \u001b[0mk2\u001b[0m \u001b[0;34m=\u001b[0m \u001b[0mh\u001b[0m \u001b[0;34m*\u001b[0m \u001b[0;34m(\u001b[0m\u001b[0mf\u001b[0m\u001b[0;34m(\u001b[0m\u001b[0;34m(\u001b[0m\u001b[0mt0\u001b[0m\u001b[0;34m+\u001b[0m\u001b[0mh\u001b[0m\u001b[0;34m/\u001b[0m\u001b[0;36m2\u001b[0m\u001b[0;34m)\u001b[0m\u001b[0;34m,\u001b[0m \u001b[0;34m(\u001b[0m\u001b[0my0\u001b[0m\u001b[0;34m+\u001b[0m\u001b[0mk1\u001b[0m\u001b[0;34m/\u001b[0m\u001b[0;36m2\u001b[0m\u001b[0;34m)\u001b[0m\u001b[0;34m,\u001b[0m\u001b[0mnode\u001b[0m\u001b[0;34m,\u001b[0m \u001b[0mh\u001b[0m\u001b[0;34m)\u001b[0m\u001b[0;34m)\u001b[0m\u001b[0;34m\u001b[0m\u001b[0;34m\u001b[0m\u001b[0m\n\u001b[1;32m     23\u001b[0m                 \u001b[0mk3\u001b[0m \u001b[0;34m=\u001b[0m \u001b[0mh\u001b[0m \u001b[0;34m*\u001b[0m \u001b[0;34m(\u001b[0m\u001b[0mf\u001b[0m\u001b[0;34m(\u001b[0m\u001b[0;34m(\u001b[0m\u001b[0mt0\u001b[0m\u001b[0;34m+\u001b[0m\u001b[0mh\u001b[0m\u001b[0;34m/\u001b[0m\u001b[0;36m2\u001b[0m\u001b[0;34m)\u001b[0m\u001b[0;34m,\u001b[0m \u001b[0;34m(\u001b[0m\u001b[0my0\u001b[0m\u001b[0;34m+\u001b[0m\u001b[0mk2\u001b[0m\u001b[0;34m/\u001b[0m\u001b[0;36m2\u001b[0m\u001b[0;34m)\u001b[0m\u001b[0;34m,\u001b[0m\u001b[0mnode\u001b[0m\u001b[0;34m,\u001b[0m \u001b[0mh\u001b[0m\u001b[0;34m)\u001b[0m\u001b[0;34m)\u001b[0m\u001b[0;34m\u001b[0m\u001b[0;34m\u001b[0m\u001b[0m\n\u001b[0;32m---> 24\u001b[0;31m                 \u001b[0mk4\u001b[0m \u001b[0;34m=\u001b[0m \u001b[0mh\u001b[0m \u001b[0;34m*\u001b[0m \u001b[0;34m(\u001b[0m\u001b[0mf\u001b[0m\u001b[0;34m(\u001b[0m\u001b[0;34m(\u001b[0m\u001b[0mt0\u001b[0m\u001b[0;34m+\u001b[0m\u001b[0mh\u001b[0m\u001b[0;34m)\u001b[0m\u001b[0;34m,\u001b[0m \u001b[0;34m(\u001b[0m\u001b[0my0\u001b[0m\u001b[0;34m+\u001b[0m\u001b[0mk3\u001b[0m\u001b[0;34m)\u001b[0m\u001b[0;34m,\u001b[0m\u001b[0mnode\u001b[0m\u001b[0;34m,\u001b[0m \u001b[0mh\u001b[0m\u001b[0;34m)\u001b[0m\u001b[0;34m)\u001b[0m\u001b[0;34m\u001b[0m\u001b[0;34m\u001b[0m\u001b[0m\n\u001b[0m\u001b[1;32m     25\u001b[0m                 \u001b[0mk\u001b[0m \u001b[0;34m=\u001b[0m \u001b[0;34m(\u001b[0m\u001b[0mk1\u001b[0m\u001b[0;34m+\u001b[0m\u001b[0;36m2\u001b[0m\u001b[0;34m*\u001b[0m\u001b[0mk2\u001b[0m\u001b[0;34m+\u001b[0m\u001b[0;36m2\u001b[0m\u001b[0;34m*\u001b[0m\u001b[0mk3\u001b[0m\u001b[0;34m+\u001b[0m\u001b[0mk4\u001b[0m\u001b[0;34m)\u001b[0m\u001b[0;34m/\u001b[0m\u001b[0;36m6\u001b[0m\u001b[0;34m\u001b[0m\u001b[0;34m\u001b[0m\u001b[0m\n\u001b[1;32m     26\u001b[0m \u001b[0;34m\u001b[0m\u001b[0m\n",
      "\u001b[0;32m<ipython-input-3-616bafdd103a>\u001b[0m in \u001b[0;36mf\u001b[0;34m(t0, theta, node, t)\u001b[0m\n\u001b[1;32m     39\u001b[0m         \u001b[0;31m# sigma terms\u001b[0m\u001b[0;34m\u001b[0m\u001b[0;34m\u001b[0m\u001b[0;34m\u001b[0m\u001b[0m\n\u001b[1;32m     40\u001b[0m         \u001b[0;32mfor\u001b[0m \u001b[0mj\u001b[0m \u001b[0;32min\u001b[0m \u001b[0mrange\u001b[0m\u001b[0;34m(\u001b[0m\u001b[0mN\u001b[0m\u001b[0;34m)\u001b[0m\u001b[0;34m:\u001b[0m\u001b[0;34m\u001b[0m\u001b[0;34m\u001b[0m\u001b[0m\n\u001b[0;32m---> 41\u001b[0;31m             \u001b[0mcpl\u001b[0m \u001b[0;34m+=\u001b[0m \u001b[0mA\u001b[0m\u001b[0;34m[\u001b[0m\u001b[0mnode\u001b[0m\u001b[0;34m]\u001b[0m\u001b[0;34m[\u001b[0m\u001b[0mj\u001b[0m\u001b[0;34m]\u001b[0m\u001b[0;34m*\u001b[0m\u001b[0mnp\u001b[0m\u001b[0;34m.\u001b[0m\u001b[0msin\u001b[0m\u001b[0;34m(\u001b[0m\u001b[0mtheta\u001b[0m\u001b[0;34m[\u001b[0m\u001b[0mj\u001b[0m\u001b[0;34m]\u001b[0m\u001b[0;34m-\u001b[0m\u001b[0mtheta\u001b[0m\u001b[0;34m[\u001b[0m\u001b[0mnode\u001b[0m\u001b[0;34m]\u001b[0m\u001b[0;34m)\u001b[0m\u001b[0;34m*\u001b[0m\u001b[0;34m(\u001b[0m\u001b[0mabs\u001b[0m\u001b[0;34m(\u001b[0m\u001b[0mnextG\u001b[0m\u001b[0;34m.\u001b[0m\u001b[0mnodes\u001b[0m\u001b[0;34m[\u001b[0m\u001b[0mnode\u001b[0m\u001b[0;34m]\u001b[0m\u001b[0;34m[\u001b[0m\u001b[0;34m'w'\u001b[0m\u001b[0;34m]\u001b[0m\u001b[0;34m-\u001b[0m\u001b[0mnextG\u001b[0m\u001b[0;34m.\u001b[0m\u001b[0mnodes\u001b[0m\u001b[0;34m[\u001b[0m\u001b[0mj\u001b[0m\u001b[0;34m]\u001b[0m\u001b[0;34m[\u001b[0m\u001b[0;34m'w'\u001b[0m\u001b[0;34m]\u001b[0m\u001b[0;34m)\u001b[0m\u001b[0;34m**\u001b[0m\u001b[0malpha\u001b[0m\u001b[0;34m)\u001b[0m\u001b[0;34m\u001b[0m\u001b[0;34m\u001b[0m\u001b[0m\n\u001b[0m\u001b[1;32m     42\u001b[0m \u001b[0;34m\u001b[0m\u001b[0m\n\u001b[1;32m     43\u001b[0m \u001b[0;34m\u001b[0m\u001b[0m\n",
      "\u001b[0;31mKeyboardInterrupt\u001b[0m: "
     ]
    }
   ],
   "source": [
    "#normal distribution\n",
    "omega = np.random.normal(loc=1, scale=1, size=(N))\n",
    "#file1 = open(\"final1.txt\",\"a\")\n",
    "# open the file in the write mode\n",
    "\n",
    "#f = open('/home/user1/Desktop/final.csv', 'w')\n",
    "\n",
    "# create the csv writer\n",
    "#writer = csv.writer(f)\n",
    "\n",
    "alpha = 1\n",
    "\n",
    "\n",
    "for node in G.nodes():\n",
    "    G.nodes[node]['w'] = omega[node]\n",
    "    G.nodes[node]['theta'] = np.random.rand()\n",
    "    G.nodes[node]['thetadot'] = 0\n",
    "\n",
    "\n",
    "nextG = G.copy() #copy graph\n",
    "\n",
    "#nx.draw(G,node_color='#8F00FF', node_size=20) #to draw\n",
    "\n",
    "#extracting adjacency matrix\n",
    "p = nx.adjacency_matrix(G).toarray()\n",
    "#print(p)\n",
    "\n",
    "#changing weighted matrix to unweighted\n",
    "A = (p>=1).astype(int)\n",
    "print(A)\n",
    "lmd0 = 0.01\n",
    "final_order = []\n",
    "\n",
    "\"\"\"Kuramoto Oscillator function\"\"\"\n",
    "laus = []\n",
    "\n",
    "for i in tqdm(range(lmd_steps)):\n",
    "    lmd = lmd0*i\n",
    "    laus.append(lmd)\n",
    "    #print(laus)\n",
    "    print(lmd)\n",
    "    \n",
    "    \n",
    "    \n",
    "    # Inputs\n",
    "    t0 = 0\n",
    "    y0 = np.zeros(N)\n",
    "    for i in range(N):\n",
    "        y0[i] = G.nodes[i]['theta']\n",
    "    xn = 100\n",
    "    \n",
    "    \n",
    "\n",
    "    data = np.array(rk4(t0,y0,xn,step))\n",
    "    #data = np.array(data)\n",
    "\n",
    "    \n",
    "\n",
    "    ordr = []\n",
    "    angle = []\n",
    "\n",
    "    st_ep = []\n",
    "    for i in range(step):\n",
    "        the_ta = data[i]\n",
    "        x,y = order(the_ta)\n",
    "        st_ep.append(i)\n",
    "        ordr.append(x)\n",
    "        angle.append(y)\n",
    "\n",
    "\n",
    "    oreder = order(data[-1])\n",
    "\n",
    "    final_order.append(oreder)\n",
    "    print(oreder)\n",
    "\n",
    "\n",
    "plt.plot(laus,final_order[0:200])\n",
    "plt.savefig(\"order2.png\")"
   ]
  },
  {
   "cell_type": "code",
   "execution_count": null,
   "id": "9798479d-0a85-4378-b12a-951259355608",
   "metadata": {},
   "outputs": [],
   "source": [
    "\n",
    "plt.plot(laus,final_order[0:200])\n",
    "plt.savefig(\"order2.png\")"
   ]
  },
  {
   "cell_type": "code",
   "execution_count": null,
   "id": "caa3d809-9855-4e90-b136-18d9daef4e1a",
   "metadata": {},
   "outputs": [],
   "source": []
  }
 ],
 "metadata": {
  "kernelspec": {
   "display_name": "Python 3",
   "language": "python",
   "name": "python3"
  },
  "language_info": {
   "codemirror_mode": {
    "name": "ipython",
    "version": 3
   },
   "file_extension": ".py",
   "mimetype": "text/x-python",
   "name": "python",
   "nbconvert_exporter": "python",
   "pygments_lexer": "ipython3",
   "version": "3.8.8"
  }
 },
 "nbformat": 4,
 "nbformat_minor": 5
}
