{
 "cells": [
  {
   "cell_type": "raw",
   "id": "c0613a13-7cb0-4afc-a57c-4d39af5ebda1",
   "metadata": {},
   "source": [
    "for ring network"
   ]
  },
  {
   "cell_type": "code",
   "execution_count": 3,
   "id": "a0fa311e-92a3-476b-99aa-dec6346766ed",
   "metadata": {},
   "outputs": [
    {
     "name": "stdin",
     "output_type": "stream",
     "text": [
      "no. of nodes:  10\n",
      "no. of time steps:  1000\n",
      "no. of lamda steps: 50\n"
     ]
    }
   ],
   "source": [
    "import networkx as nx\n",
    "from matplotlib import pyplot as plt\n",
    "import numpy as np\n",
    "import math\n",
    "from tqdm import tqdm\n",
    "import cmath\n",
    "import csv\n",
    "\n",
    "\n",
    "N = int(input(\"no. of nodes: \"))\n",
    "step = int(input(\"no. of time steps: \"))\n",
    "lmd_steps  = int(input(\"no. of lamda steps:\"))"
   ]
  },
  {
   "cell_type": "raw",
   "id": "8aa7c6f1-f70e-49c3-ad32-4aaa0d4cde15",
   "metadata": {},
   "source": [
    "Raw Network matrix and graph"
   ]
  },
  {
   "cell_type": "code",
   "execution_count": 6,
   "id": "0d53f9a5-2b2a-4827-bf90-9b4566b41f3c",
   "metadata": {},
   "outputs": [
    {
     "name": "stdout",
     "output_type": "stream",
     "text": [
      "[[0 1 0 0 0 0 0 0 0 1]\n",
      " [1 0 1 0 0 0 0 0 0 0]\n",
      " [0 1 0 1 0 0 0 0 0 0]\n",
      " [0 0 1 0 1 0 0 0 0 0]\n",
      " [0 0 0 1 0 1 0 0 0 0]\n",
      " [0 0 0 0 1 0 1 0 0 0]\n",
      " [0 0 0 0 0 1 0 1 0 0]\n",
      " [0 0 0 0 0 0 1 0 1 0]\n",
      " [0 0 0 0 0 0 0 1 0 1]\n",
      " [1 0 0 0 0 0 0 0 1 0]]\n"
     ]
    },
    {
     "data": {
      "image/png": "[encoded data removed]",
      "text/plain": [
       "<Figure size 432x288 with 1 Axes>"
      ]
     },
     "metadata": {},
     "output_type": "display_data"
    }
   ],
   "source": [
    "ring_matrix = [[ 0 for j in range(N)] for i in range(N)]\n",
    "#print(ring_matrix)\n",
    "\n",
    "for i in range(N-1):\n",
    "    ring_matrix[i][i+1] = 1\n",
    "    ring_matrix[i+1][i] = 1\n",
    "ring_matrix[0][N-1] = 1\n",
    "ring_matrix[N-1][0] = 1\n",
    "\n",
    "ring_matrix = np.array(ring_matrix)\n",
    "print(ring_matrix)\n",
    "\n",
    "\n",
    "G = nx.from_numpy_matrix(ring_matrix)\n",
    "nx.draw(G,node_color='#8F00FF',with_labels = True, node_size=20)"
   ]
  },
  {
   "cell_type": "markdown",
   "id": "99fdd31a-3f23-49f2-a28f-57a55d6eee5c",
   "metadata": {},
   "source": [
    "\n",
    "\n",
    "G = nx.scale_free_graph(N) #scale free directed network is created\n",
    "G = G.to_undirected() # changed to undirected graph\n",
    "G.pos = nx.spring_layout(G) #to give nodes spring like structure\n",
    "    #nx.draw(G,node_color='#8F00FF', node_size=20) #to draw\n",
    "\n",
    "\n"
   ]
  },
  {
   "cell_type": "code",
   "execution_count": 9,
   "id": "0380cc5f-8410-4b98-8e78-962836d2fded",
   "metadata": {},
   "outputs": [
    {
     "name": "stderr",
     "output_type": "stream",
     "text": [
      "  0%|          | 0/50 [00:00<?, ?it/s]"
     ]
    },
    {
     "name": "stdout",
     "output_type": "stream",
     "text": [
      "[[0 1 0 0 0 0 0 0 0 1]\n",
      " [1 0 1 0 0 0 0 0 0 0]\n",
      " [0 1 0 1 0 0 0 0 0 0]\n",
      " [0 0 1 0 1 0 0 0 0 0]\n",
      " [0 0 0 1 0 1 0 0 0 0]\n",
      " [0 0 0 0 1 0 1 0 0 0]\n",
      " [0 0 0 0 0 1 0 1 0 0]\n",
      " [0 0 0 0 0 0 1 0 1 0]\n",
      " [0 0 0 0 0 0 0 1 0 1]\n",
      " [1 0 0 0 0 0 0 0 1 0]]\n",
      "0.0\n"
     ]
    },
    {
     "name": "stderr",
     "output_type": "stream",
     "text": [
      "  2%|▏         | 1/50 [00:03<02:42,  3.32s/it]"
     ]
    },
    {
     "name": "stdout",
     "output_type": "stream",
     "text": [
      "(0.21137963417193573, 1.0464730770212476)\n",
      "0.02\n"
     ]
    },
    {
     "name": "stderr",
     "output_type": "stream",
     "text": [
      "  4%|▍         | 2/50 [00:06<02:39,  3.31s/it]"
     ]
    },
    {
     "name": "stdout",
     "output_type": "stream",
     "text": [
      "(0.2120177228494287, 1.050114830609113)\n",
      "0.04\n"
     ]
    },
    {
     "name": "stderr",
     "output_type": "stream",
     "text": [
      "  6%|▌         | 3/50 [00:09<02:34,  3.29s/it]"
     ]
    },
    {
     "name": "stdout",
     "output_type": "stream",
     "text": [
      "(0.21221893923484833, 1.0553072072457663)\n",
      "0.06\n"
     ]
    },
    {
     "name": "stderr",
     "output_type": "stream",
     "text": [
      "  8%|▊         | 4/50 [00:13<02:30,  3.27s/it]"
     ]
    },
    {
     "name": "stdout",
     "output_type": "stream",
     "text": [
      "(0.21183691845722635, 1.0624829485335086)\n",
      "0.08\n"
     ]
    },
    {
     "name": "stderr",
     "output_type": "stream",
     "text": [
      " 10%|█         | 5/50 [00:16<02:26,  3.26s/it]"
     ]
    },
    {
     "name": "stdout",
     "output_type": "stream",
     "text": [
      "(0.21065585450480886, 1.0723120273636977)\n",
      "0.1\n"
     ]
    },
    {
     "name": "stderr",
     "output_type": "stream",
     "text": [
      " 12%|█▏        | 6/50 [00:19<02:21,  3.22s/it]"
     ]
    },
    {
     "name": "stdout",
     "output_type": "stream",
     "text": [
      "(0.2083805686550708, 1.0858007543922965)\n",
      "0.12\n"
     ]
    },
    {
     "name": "stderr",
     "output_type": "stream",
     "text": [
      " 14%|█▍        | 7/50 [00:22<02:18,  3.22s/it]"
     ]
    },
    {
     "name": "stdout",
     "output_type": "stream",
     "text": [
      "(0.20462836706221757, 1.1044640631974976)\n",
      "0.14\n"
     ]
    },
    {
     "name": "stderr",
     "output_type": "stream",
     "text": [
      " 16%|█▌        | 8/50 [00:26<02:17,  3.28s/it]"
     ]
    },
    {
     "name": "stdout",
     "output_type": "stream",
     "text": [
      "(0.198930646649114, 1.1306281924768313)\n",
      "0.16\n"
     ]
    },
    {
     "name": "stderr",
     "output_type": "stream",
     "text": [
      " 18%|█▊        | 9/50 [00:29<02:16,  3.32s/it]"
     ]
    },
    {
     "name": "stdout",
     "output_type": "stream",
     "text": [
      "(0.1907634785078315, 1.1679686852696098)\n",
      "0.18\n"
     ]
    },
    {
     "name": "stderr",
     "output_type": "stream",
     "text": [
      " 20%|██        | 10/50 [00:32<02:12,  3.31s/it]"
     ]
    },
    {
     "name": "stdout",
     "output_type": "stream",
     "text": [
      "(0.17964820965583073, 1.2224716510156686)\n",
      "0.2\n"
     ]
    },
    {
     "name": "stderr",
     "output_type": "stream",
     "text": [
      " 22%|██▏       | 11/50 [00:36<02:12,  3.40s/it]"
     ]
    },
    {
     "name": "stdout",
     "output_type": "stream",
     "text": [
      "(0.16540009837156247, 1.3041071427997206)\n",
      "0.22\n"
     ]
    },
    {
     "name": "stderr",
     "output_type": "stream",
     "text": [
      " 24%|██▍       | 12/50 [00:39<02:08,  3.39s/it]"
     ]
    },
    {
     "name": "stdout",
     "output_type": "stream",
     "text": [
      "(0.14865020195936568, 1.4293442756247652)\n",
      "0.24\n"
     ]
    },
    {
     "name": "stderr",
     "output_type": "stream",
     "text": [
      " 26%|██▌       | 13/50 [00:43<02:05,  3.38s/it]"
     ]
    },
    {
     "name": "stdout",
     "output_type": "stream",
     "text": [
      "(0.1317586932360171, 1.6225349816249024)\n",
      "0.26\n"
     ]
    },
    {
     "name": "stderr",
     "output_type": "stream",
     "text": [
      " 28%|██▊       | 14/50 [00:46<02:00,  3.34s/it]"
     ]
    },
    {
     "name": "stdout",
     "output_type": "stream",
     "text": [
      "(0.1198008335585687, 1.9047080824678548)\n",
      "0.28\n"
     ]
    },
    {
     "name": "stderr",
     "output_type": "stream",
     "text": [
      " 30%|███       | 15/50 [00:49<01:57,  3.35s/it]"
     ]
    },
    {
     "name": "stdout",
     "output_type": "stream",
     "text": [
      "(0.11948770792628399, 2.2506394432080334)\n",
      "0.3\n"
     ]
    },
    {
     "name": "stderr",
     "output_type": "stream",
     "text": [
      " 32%|███▏      | 16/50 [00:52<01:52,  3.30s/it]"
     ]
    },
    {
     "name": "stdout",
     "output_type": "stream",
     "text": [
      "(0.1336528437804908, 2.5713441123488048)\n",
      "0.32\n"
     ]
    },
    {
     "name": "stderr",
     "output_type": "stream",
     "text": [
      " 34%|███▍      | 17/50 [00:56<01:47,  3.26s/it]"
     ]
    },
    {
     "name": "stdout",
     "output_type": "stream",
     "text": [
      "(0.1583100747024998, 2.8051611672167076)\n",
      "0.34\n"
     ]
    },
    {
     "name": "stderr",
     "output_type": "stream",
     "text": [
      " 36%|███▌      | 18/50 [00:59<01:45,  3.29s/it]"
     ]
    },
    {
     "name": "stdout",
     "output_type": "stream",
     "text": [
      "(0.1874457391184175, 2.957387007157972)\n",
      "0.36\n"
     ]
    },
    {
     "name": "stderr",
     "output_type": "stream",
     "text": [
      " 38%|███▊      | 19/50 [01:02<01:44,  3.36s/it]"
     ]
    },
    {
     "name": "stdout",
     "output_type": "stream",
     "text": [
      "(0.216766632022448, 3.053812532899951)\n",
      "0.38\n"
     ]
    },
    {
     "name": "stderr",
     "output_type": "stream",
     "text": [
      " 40%|████      | 20/50 [01:06<01:39,  3.30s/it]"
     ]
    },
    {
     "name": "stdout",
     "output_type": "stream",
     "text": [
      "(0.24385754838979368, 3.114770735053117)\n",
      "0.4\n"
     ]
    },
    {
     "name": "stderr",
     "output_type": "stream",
     "text": [
      " 42%|████▏     | 21/50 [01:09<01:35,  3.30s/it]"
     ]
    },
    {
     "name": "stdout",
     "output_type": "stream",
     "text": [
      "(0.26736898306135926, -3.130521602112825)\n",
      "0.42\n"
     ]
    },
    {
     "name": "stderr",
     "output_type": "stream",
     "text": [
      " 44%|████▍     | 22/50 [01:12<01:32,  3.32s/it]"
     ]
    },
    {
     "name": "stdout",
     "output_type": "stream",
     "text": [
      "(0.2862531802762341, -3.108965911186353)\n",
      "0.44\n"
     ]
    },
    {
     "name": "stderr",
     "output_type": "stream",
     "text": [
      " 46%|████▌     | 23/50 [01:16<01:30,  3.37s/it]"
     ]
    },
    {
     "name": "stdout",
     "output_type": "stream",
     "text": [
      "(0.2990073668513441, -3.1012000100644084)\n",
      "0.46\n"
     ]
    },
    {
     "name": "stderr",
     "output_type": "stream",
     "text": [
      " 48%|████▊     | 24/50 [01:19<01:29,  3.45s/it]"
     ]
    },
    {
     "name": "stdout",
     "output_type": "stream",
     "text": [
      "(0.3026591247273415, -3.1091549450348053)\n",
      "0.48\n"
     ]
    },
    {
     "name": "stderr",
     "output_type": "stream",
     "text": [
      " 50%|█████     | 25/50 [01:23<01:25,  3.41s/it]"
     ]
    },
    {
     "name": "stdout",
     "output_type": "stream",
     "text": [
      "(0.2916897550872636, 3.1407554890904503)\n",
      "0.5\n"
     ]
    },
    {
     "name": "stderr",
     "output_type": "stream",
     "text": [
      " 52%|█████▏    | 26/50 [01:26<01:21,  3.42s/it]"
     ]
    },
    {
     "name": "stdout",
     "output_type": "stream",
     "text": [
      "(0.25990243547545633, 3.0573739979170798)\n",
      "0.52\n"
     ]
    },
    {
     "name": "stderr",
     "output_type": "stream",
     "text": [
      " 54%|█████▍    | 27/50 [01:30<01:17,  3.39s/it]"
     ]
    },
    {
     "name": "stdout",
     "output_type": "stream",
     "text": [
      "(0.21147473838257902, 2.8776317496456745)\n",
      "0.54\n"
     ]
    },
    {
     "name": "stderr",
     "output_type": "stream",
     "text": [
      " 56%|█████▌    | 28/50 [01:33<01:13,  3.34s/it]"
     ]
    },
    {
     "name": "stdout",
     "output_type": "stream",
     "text": [
      "(0.16974224829583778, 2.567790134919121)\n",
      "0.56\n"
     ]
    },
    {
     "name": "stderr",
     "output_type": "stream",
     "text": [
      " 58%|█████▊    | 29/50 [01:36<01:09,  3.31s/it]"
     ]
    },
    {
     "name": "stdout",
     "output_type": "stream",
     "text": [
      "(0.15360390471921073, 2.2222785820071866)\n",
      "0.58\n"
     ]
    },
    {
     "name": "stderr",
     "output_type": "stream",
     "text": [
      " 60%|██████    | 30/50 [01:39<01:05,  3.30s/it]"
     ]
    },
    {
     "name": "stdout",
     "output_type": "stream",
     "text": [
      "(0.15200384091969474, 2.0121633064574103)\n",
      "0.6\n"
     ]
    },
    {
     "name": "stderr",
     "output_type": "stream",
     "text": [
      " 62%|██████▏   | 31/50 [01:43<01:02,  3.28s/it]"
     ]
    },
    {
     "name": "stdout",
     "output_type": "stream",
     "text": [
      "(0.14910182314228074, 2.0058873050000194)\n",
      "0.62\n"
     ]
    },
    {
     "name": "stderr",
     "output_type": "stream",
     "text": [
      " 64%|██████▍   | 32/50 [01:46<00:58,  3.27s/it]"
     ]
    },
    {
     "name": "stdout",
     "output_type": "stream",
     "text": [
      "(0.15377437235088226, 2.271519317870048)\n",
      "0.64\n"
     ]
    },
    {
     "name": "stderr",
     "output_type": "stream",
     "text": [
      " 66%|██████▌   | 33/50 [01:49<00:55,  3.26s/it]"
     ]
    },
    {
     "name": "stdout",
     "output_type": "stream",
     "text": [
      "(0.24291882168855644, 3.057803192729092)\n",
      "0.66\n"
     ]
    },
    {
     "name": "stderr",
     "output_type": "stream",
     "text": [
      " 68%|██████▊   | 34/50 [01:52<00:52,  3.29s/it]"
     ]
    },
    {
     "name": "stdout",
     "output_type": "stream",
     "text": [
      "(0.3874802138437614, -2.9838832148269208)\n",
      "0.68\n"
     ]
    },
    {
     "name": "stderr",
     "output_type": "stream",
     "text": [
      " 70%|███████   | 35/50 [01:56<00:51,  3.42s/it]"
     ]
    },
    {
     "name": "stdout",
     "output_type": "stream",
     "text": [
      "(0.44847171158662746, -2.9403477873579704)\n",
      "0.7000000000000001\n"
     ]
    },
    {
     "name": "stderr",
     "output_type": "stream",
     "text": [
      " 72%|███████▏  | 36/50 [01:59<00:47,  3.37s/it]"
     ]
    },
    {
     "name": "stdout",
     "output_type": "stream",
     "text": [
      "(0.47855999018041356, -2.926465316821346)\n",
      "0.72\n"
     ]
    },
    {
     "name": "stderr",
     "output_type": "stream",
     "text": [
      " 74%|███████▍  | 37/50 [02:03<00:43,  3.37s/it]"
     ]
    },
    {
     "name": "stdout",
     "output_type": "stream",
     "text": [
      "(0.49443066926150264, -2.9234867827663886)\n",
      "0.74\n"
     ]
    },
    {
     "name": "stderr",
     "output_type": "stream",
     "text": [
      " 76%|███████▌  | 38/50 [02:06<00:39,  3.31s/it]"
     ]
    },
    {
     "name": "stdout",
     "output_type": "stream",
     "text": [
      "(0.5002747738901594, -2.928799708792984)\n",
      "0.76\n"
     ]
    },
    {
     "name": "stderr",
     "output_type": "stream",
     "text": [
      " 78%|███████▊  | 39/50 [02:09<00:36,  3.29s/it]"
     ]
    },
    {
     "name": "stdout",
     "output_type": "stream",
     "text": [
      "(0.49567181045979064, -2.9445295931298)\n",
      "0.78\n"
     ]
    },
    {
     "name": "stderr",
     "output_type": "stream",
     "text": [
      " 80%|████████  | 40/50 [02:12<00:33,  3.31s/it]"
     ]
    },
    {
     "name": "stdout",
     "output_type": "stream",
     "text": [
      "(0.4748509766351577, -2.9791067468338563)\n",
      "0.8\n"
     ]
    },
    {
     "name": "stderr",
     "output_type": "stream",
     "text": [
      " 82%|████████▏ | 41/50 [02:16<00:29,  3.29s/it]"
     ]
    },
    {
     "name": "stdout",
     "output_type": "stream",
     "text": [
      "(0.4214315090196614, -3.0613917729167275)\n",
      "0.8200000000000001\n"
     ]
    },
    {
     "name": "stderr",
     "output_type": "stream",
     "text": [
      " 84%|████████▍ | 42/50 [02:19<00:26,  3.25s/it]"
     ]
    },
    {
     "name": "stdout",
     "output_type": "stream",
     "text": [
      "(0.32771097629285806, 3.00798502194517)\n",
      "0.84\n"
     ]
    },
    {
     "name": "stderr",
     "output_type": "stream",
     "text": [
      " 86%|████████▌ | 43/50 [02:22<00:22,  3.24s/it]"
     ]
    },
    {
     "name": "stdout",
     "output_type": "stream",
     "text": [
      "(0.25507856123046774, 2.567840439820185)\n",
      "0.86\n"
     ]
    },
    {
     "name": "stderr",
     "output_type": "stream",
     "text": [
      " 88%|████████▊ | 44/50 [02:25<00:19,  3.22s/it]"
     ]
    },
    {
     "name": "stdout",
     "output_type": "stream",
     "text": [
      "(0.2583552155282695, 2.068462931460303)\n",
      "0.88\n"
     ]
    },
    {
     "name": "stderr",
     "output_type": "stream",
     "text": [
      " 90%|█████████ | 45/50 [02:28<00:16,  3.21s/it]"
     ]
    },
    {
     "name": "stdout",
     "output_type": "stream",
     "text": [
      "(0.30666399825230445, 1.743959819335561)\n",
      "0.9\n"
     ]
    },
    {
     "name": "stderr",
     "output_type": "stream",
     "text": [
      " 92%|█████████▏| 46/50 [02:32<00:12,  3.22s/it]"
     ]
    },
    {
     "name": "stdout",
     "output_type": "stream",
     "text": [
      "(0.35973120418368915, 1.557686445916901)\n",
      "0.92\n"
     ]
    },
    {
     "name": "stderr",
     "output_type": "stream",
     "text": [
      " 94%|█████████▍| 47/50 [02:35<00:09,  3.23s/it]"
     ]
    },
    {
     "name": "stdout",
     "output_type": "stream",
     "text": [
      "(0.3990108180238735, 1.435947496928685)\n",
      "0.9400000000000001\n"
     ]
    },
    {
     "name": "stderr",
     "output_type": "stream",
     "text": [
      " 96%|█████████▌| 48/50 [02:38<00:06,  3.22s/it]"
     ]
    },
    {
     "name": "stdout",
     "output_type": "stream",
     "text": [
      "(0.4181692677095508, 1.3462528294000198)\n",
      "0.96\n"
     ]
    },
    {
     "name": "stderr",
     "output_type": "stream",
     "text": [
      " 98%|█████████▊| 49/50 [02:41<00:03,  3.25s/it]"
     ]
    },
    {
     "name": "stdout",
     "output_type": "stream",
     "text": [
      "(0.4183959495626056, 1.2836190832994308)\n",
      "0.98\n"
     ]
    },
    {
     "name": "stderr",
     "output_type": "stream",
     "text": [
      "100%|██████████| 50/50 [02:45<00:00,  3.30s/it]"
     ]
    },
    {
     "name": "stdout",
     "output_type": "stream",
     "text": [
      "(0.40197678887204474, 1.2573360681730887)\n"
     ]
    },
    {
     "name": "stderr",
     "output_type": "stream",
     "text": [
      "\n"
     ]
    },
    {
     "data": {
      "image/png": "[encoded data removed]",
      "text/plain": [
       "<Figure size 432x288 with 1 Axes>"
      ]
     },
     "metadata": {
      "needs_background": "light"
     },
     "output_type": "display_data"
    }
   ],
   "source": [
    "#normal distribution\n",
    "omega = np.zeros(N)\n",
    "for i in range(N):\n",
    "    omega[i] = (i)/(N-1)\n",
    "\n",
    "    \n",
    "\n",
    "alpha = 1\n",
    "\n",
    "\n",
    "for node in G.nodes():\n",
    "    G.nodes[node]['w'] = omega[node]\n",
    "    G.nodes[node]['theta'] = np.random.rand()\n",
    "    G.nodes[node]['thetadot'] = 0\n",
    "\n",
    "\n",
    "nextG = G.copy() #copy graph\n",
    "\n",
    "#nx.draw(G,node_color='#8F00FF', node_size=20) #to draw\n",
    "\n",
    "#extracting adjacency matrix\n",
    "p = nx.adjacency_matrix(G).toarray()\n",
    "#print(p)\n",
    "\n",
    "#changing weighted matrix to unweighted\n",
    "A = (p>=1).astype(int)\n",
    "print(A)\n",
    "lmd0 = 0.02\n",
    "final_order = []\n",
    "\n",
    "\"\"\"Kuramoto Oscillator function\"\"\"\n",
    "laus = []\n",
    "\n",
    "for i in tqdm(range(lmd_steps)):\n",
    "    lmd = lmd0*i\n",
    "    laus.append(lmd)\n",
    "    #print(laus)\n",
    "    print(lmd)\n",
    "    \n",
    "    def f(t0,theta, node,t):\n",
    "        cpl = 0\n",
    "\n",
    "\n",
    "        # sigma terms\n",
    "        for j in range(N):\n",
    "            cpl += A[node][j]*np.sin(theta[j]-theta[node])*(abs(nextG.nodes[node]['w']-nextG.nodes[j]['w'])**alpha)\n",
    "\n",
    "\n",
    "        thetadot = nextG.nodes[node]['w'] + (lmd/3)*cpl\n",
    "        return thetadot\n",
    "\n",
    "    # RK-4 method\n",
    "    def rk4(t0,y0,xn,n):\n",
    "\n",
    "        # Calculating step size\n",
    "        h = (xn-t0)/n\n",
    "\n",
    "        time_series = []\n",
    "#        print(n,N)\n",
    "        for i in range(n):\n",
    "    #        data = np.zeros(N)\n",
    "            temp = np.array(y0)\n",
    "\n",
    "            time_series.append(y0) \n",
    "    #        print(time_series)\n",
    "            for node in G.nodes():\n",
    "\n",
    "                k1 = h * (f(t0, y0, node, h))\n",
    "                k2 = h * (f((t0+h/2), (y0+k1/2),node, h))\n",
    "                k3 = h * (f((t0+h/2), (y0+k2/2),node, h))\n",
    "                k4 = h * (f((t0+h), (y0+k3),node, h))\n",
    "                k = (k1+2*k2+2*k3+k4)/6\n",
    "\n",
    "                yn = y0[node] + k\n",
    "\n",
    "                temp[node] = yn\n",
    "                t0 = t0+h\n",
    "    #            data[node] = yn\n",
    "            y0 = temp\n",
    "        return time_series\n",
    "\n",
    "    # Inputs\n",
    "    t0 = 0\n",
    "    y0 = np.zeros(N)\n",
    "    for i in range(N):\n",
    "        y0[i] = G.nodes[i]['theta']\n",
    "    xn = 100\n",
    "    \n",
    "    \n",
    "\n",
    "    data = np.array(rk4(t0,y0,xn,step))\n",
    "    #data = np.array(data)\n",
    "\n",
    "    def order(theta):\n",
    "        z = sum(np.exp(theta*1j))/len(theta)\n",
    "    #    print(np.absolute(z), np.angle(z))\n",
    "        return np.absolute(z), np.angle(z)\n",
    "\n",
    "    ordr = []\n",
    "    angle = []\n",
    "\n",
    "    st_ep = []\n",
    "    for i in range(step):\n",
    "        the_ta = data[i]\n",
    "        x,y = order(the_ta)\n",
    "        st_ep.append(i)\n",
    "        ordr.append(x)\n",
    "        angle.append(y)\n",
    "\n",
    "    #ordr = np.array(ordr)\n",
    "    #print(np.shape(ordr))\n",
    "    #abs_ord = np.zeros(step)\n",
    "    #print(abs_ord)\n",
    "\n",
    "    #ordr = ordr.flatten()\n",
    "    #for i in range(len(ordr)):\n",
    "    #    abs_ord = ordr[i][0]\n",
    "    #abs_ord = ordr1[0:int(step/2):1]\n",
    "\n",
    "    oreder = order(data[-1])\n",
    "   # file1.write(oreder)\n",
    "   # file1.write(\"\\n\")\n",
    "    #writer.writerow(oreder)\n",
    "    final_order.append(oreder)\n",
    "    print(oreder)\n",
    "\n",
    "#print(ordr)\n",
    "#plt.savefig(\"order.png\")\n",
    "\n",
    "#f.close()\n",
    "\n",
    "plt.plot(laus,final_order[0:200])\n",
    "plt.savefig(\"order2.png\")"
   ]
  },
  {
   "cell_type": "code",
   "execution_count": 10,
   "id": "9798479d-0a85-4378-b12a-951259355608",
   "metadata": {},
   "outputs": [
    {
     "data": {
      "image/png": "[encoded data removed]",
      "text/plain": [
       "<Figure size 432x288 with 1 Axes>"
      ]
     },
     "metadata": {
      "needs_background": "light"
     },
     "output_type": "display_data"
    }
   ],
   "source": [
    "\n",
    "plt.plot(laus,final_order[0:200])\n",
    "plt.savefig(\"order2.png\")"
   ]
  },
  {
   "cell_type": "code",
   "execution_count": null,
   "id": "caa3d809-9855-4e90-b136-18d9daef4e1a",
   "metadata": {},
   "outputs": [],
   "source": []
  }
 ],
 "metadata": {
  "kernelspec": {
   "display_name": "Python 3",
   "language": "python",
   "name": "python3"
  },
  "language_info": {
   "codemirror_mode": {
    "name": "ipython",
    "version": 3
   },
   "file_extension": ".py",
   "mimetype": "text/x-python",
   "name": "python",
   "nbconvert_exporter": "python",
   "pygments_lexer": "ipython3",
   "version": "3.8.8"
  }
 },
 "nbformat": 4,
 "nbformat_minor": 5
}
